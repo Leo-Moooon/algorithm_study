{
 "cells": [
  {
   "cell_type": "markdown",
   "source": [
    "# 큐(Queue)\n",
    "자료 (data element)를 보관할 수 있는 (선형) 구조\n",
    "\n",
    "- 단, 넣을 때에는 한쪽 끝에서 밀어넣고 (인큐(enqueue) 연산)\n",
    "- 꺼낼 때에는 반대 쪽에서 뽑아 꺼내야 하는 제약이 있음 (디큐(dequeue) 연산).\n",
    "- 선입선출 구조(FIFO)\n",
    "\n",
    "---\n",
    "\n",
    "큐의 동작\n",
    "1. enqueue: 위(뒤)에 넣음\n",
    "2. dequeue: 아래(앞)에서 뽑음\n",
    "\n",
    "---\n",
    "\n",
    "연산 정의\n",
    "1. size() - 원소의 수 반환\n",
    "2. isEmpty() - 큐가 비어있는지 판단\n",
    "3. enqueue(x) - 데이터 원소 x를 큐에 추가\n",
    "4. dequeue() - 큐의 맨 앞에 저장된 데이터 원소 제거 및 반환\n",
    "5. peek() - 큐의 맨 앞에 저장된 데이터 원소 반환(제거하지 않음)"
   ],
   "metadata": {
    "collapsed": false
   },
   "id": "3b3ce780fd40e619"
  },
  {
   "cell_type": "markdown",
   "source": [
    "## (1) 배열(array)를 이용한 구현\n",
    "\n",
    "시간복잡도\n",
    "1. size() - $O(1)$\n",
    "2. isEmpty() - $O(1)$\n",
    "3. enqueue(x) - $O(1)$\n",
    "4. dequeue() - $O(n)$\n",
    "5. peek() - $O(1)$\n"
   ],
   "metadata": {
    "collapsed": false
   },
   "id": "61c0c3f8c9141759"
  },
  {
   "cell_type": "code",
   "execution_count": 3,
   "id": "initial_id",
   "metadata": {
    "collapsed": true,
    "ExecuteTime": {
     "end_time": "2023-12-17T04:03:46.648343Z",
     "start_time": "2023-12-17T04:03:46.645533Z"
    }
   },
   "outputs": [],
   "source": [
    "class ArrayQueue:\n",
    "    def __init__(self):\n",
    "        self.data = []\n",
    "        pass\n",
    "    \n",
    "    def size(self):\n",
    "        return len(self.data)\n",
    "    \n",
    "    def isEmpty(self):\n",
    "        return self.size() == 0\n",
    "    \n",
    "    def enqueue(self, item):\n",
    "        self.data.append(item)\n",
    "    \n",
    "    def dequeue(self):\n",
    "        return self.data.pop(0)\n",
    "    \n",
    "    def peek(self):\n",
    "        return self.data[0]"
   ]
  },
  {
   "cell_type": "markdown",
   "source": [
    "## (2) 연결리스트를 이용한 구현"
   ],
   "metadata": {
    "collapsed": false
   },
   "id": "3934c76d1eea2c79"
  },
  {
   "cell_type": "code",
   "execution_count": 4,
   "outputs": [],
   "source": [
    "class Node:\n",
    "    def __init__(self, item):\n",
    "        self.data = item\n",
    "        self.prev= None\n",
    "        self.next = None\n",
    "\n",
    "class DoublyLinkedList:\n",
    "    def __init__(self):\n",
    "        self.nodeCount = 0\n",
    "        self.head = Node(None) # Dummy Node\n",
    "        self.tail = Node(None) # Dummy Node\n",
    "        \n",
    "        self.head.next = self.tail\n",
    "        self.tail.prev = self.head\n",
    "    \n",
    "    \n",
    "    def __repr__(self):\n",
    "        if self.nodeCount == 0:\n",
    "            return \"DoublyLinkedList: empty\"\n",
    "        \n",
    "        s = ''\n",
    "        curr = self.head.next\n",
    "        while curr.next is not None:\n",
    "            s += repr(curr.data)\n",
    "            \n",
    "            if curr.next.next is not None:\n",
    "                s += ' -> '\n",
    "            curr = curr.next\n",
    "        \n",
    "        return s\n",
    "\n",
    "    def __len__(self):\n",
    "        return self.nodeCount\n",
    "    \n",
    "    \n",
    "    def traverse(self, reverse=False):\n",
    "        result = []\n",
    "        if reverse:\n",
    "            curr = self.head\n",
    "            while curr.next.next:\n",
    "                curr = curr.next\n",
    "                result.append(curr.data)\n",
    "                \n",
    "        else:\n",
    "            curr = self.tail\n",
    "            while curr.prev.prev:\n",
    "                curr = curr.prev\n",
    "                result.append(curr.data)\n",
    "        \n",
    "        return result\n",
    "    \n",
    "    \n",
    "    def getAt(self, pos):\n",
    "        if (pos < 0) or (pos > self.nodeCount):\n",
    "            raise IndexError\n",
    "        \n",
    "        if pos < self.nodeCount // 2:\n",
    "            i = 0\n",
    "            curr = self.head\n",
    "            \n",
    "            while i < pos:\n",
    "                curr = curr.next\n",
    "                i += 1\n",
    "        \n",
    "        else:\n",
    "            i = 0\n",
    "            curr = self.tail\n",
    "\n",
    "            while i < self.nodeCount - pos + 1:\n",
    "                curr = curr.prev\n",
    "                i += 1\n",
    "        return curr\n",
    "    \n",
    "    \n",
    "    def insertAfter(self, prev, newNode):\n",
    "        next = prev.next\n",
    "        \n",
    "        newNode.prev = prev\n",
    "        newNode.next = next\n",
    "        \n",
    "        prev.next = newNode\n",
    "        next.prev = newNode\n",
    "        \n",
    "        self.nodeCount += 1\n",
    "        return True\n",
    "    \n",
    "    \n",
    "    def insertAt(self, pos, newNode):\n",
    "        if (pos < 1) or (pos > self.nodeCount + 1):\n",
    "            raise IndexError\n",
    "        \n",
    "        prev = self.getAt(pos-1)\n",
    "        return self.insertAfter(prev, newNode)\n",
    "    \n",
    "    \n",
    "    def insertBefore(self, next, newNode):\n",
    "        prev = next.prev\n",
    "        \n",
    "        newNode.prev = prev\n",
    "        newNode.next = next\n",
    "        \n",
    "        prev.next = newNode\n",
    "        next.prev = newNode\n",
    "        \n",
    "        self.nodeCount += 1\n",
    "        return True\n",
    "    \n",
    "    \n",
    "    def popAfter(self, prev):\n",
    "        curr = prev.next\n",
    "        next = curr.next\n",
    "        \n",
    "        prev.next = curr.next\n",
    "        next.prev = prev\n",
    "        \n",
    "        self.nodeCount -= 1\n",
    "        return curr.data\n",
    "    \n",
    "    \n",
    "    def popBefore(self, next):\n",
    "        curr = next.prev\n",
    "        prev = curr.prev\n",
    "        \n",
    "        prev.next = next\n",
    "        next.prev = prev\n",
    "        \n",
    "        self.nodeCount -= 1\n",
    "        return curr.data\n",
    "    \n",
    "    \n",
    "    def popAt(self, pos):\n",
    "        if (pos < 1) or (pos > self.nodeCount):\n",
    "            raise IndexError\n",
    "        \n",
    "        prev = self.getAt(pos-1)\n",
    "        return self.popAfter(prev)\n",
    "    \n",
    "    \n",
    "    def concat(self, L):\n",
    "        prev = self.tail.prev\n",
    "        next = L.head.next\n",
    "        \n",
    "        prev.next = next\n",
    "        next.prev = prev\n",
    "        \n",
    "        self.tail = L.tail\n",
    "        self.nodeCount += L.nodeCount    "
   ],
   "metadata": {
    "collapsed": false,
    "ExecuteTime": {
     "end_time": "2023-12-17T04:03:50.884104Z",
     "start_time": "2023-12-17T04:03:50.881924Z"
    }
   },
   "id": "f45c20d1dfaad670"
  },
  {
   "cell_type": "code",
   "execution_count": null,
   "outputs": [],
   "source": [
    "class Queue:\n",
    "    def __init__(self): \n",
    "        self.data = DoublyLinkedList()\n",
    "\n",
    "    def size(self):\n",
    "        return self.data.nodeCount\n",
    "    \n",
    "    def isEmpty(self):\n",
    "        return self.size() == 0\n",
    "    \n",
    "    def enqueue(self, item):\n",
    "        self.data.insertAt(self.size()+1, Node(item))\n",
    "    \n",
    "    def dequeue(self):\n",
    "        return self.data.popAt(1)\n",
    "    \n",
    "    def peek(self):\n",
    "        return self.data.getAt(1).data"
   ],
   "metadata": {
    "collapsed": false
   },
   "id": "f28fe84ea438dd16"
  },
  {
   "cell_type": "markdown",
   "source": [
    "## (3) 라이브러리를 통한 큐 이용"
   ],
   "metadata": {
    "collapsed": false
   },
   "id": "74f31890957cc4d3"
  },
  {
   "cell_type": "code",
   "execution_count": 5,
   "outputs": [
    {
     "data": {
      "text/plain": "['__class__',\n '__delattr__',\n '__dict__',\n '__dir__',\n '__doc__',\n '__eq__',\n '__format__',\n '__ge__',\n '__getattribute__',\n '__gt__',\n '__hash__',\n '__init__',\n '__init_subclass__',\n '__le__',\n '__lt__',\n '__module__',\n '__ne__',\n '__new__',\n '__reduce__',\n '__reduce_ex__',\n '__repr__',\n '__setattr__',\n '__sizeof__',\n '__str__',\n '__subclasshook__',\n '__weakref__',\n 'dequeue',\n 'enqueue',\n 'isEmpty',\n 'items',\n 'size']"
     },
     "execution_count": 5,
     "metadata": {},
     "output_type": "execute_result"
    }
   ],
   "source": [
    "from pythonds.basic import Queue\n",
    "Q = Queue()\n",
    "dir(Q)"
   ],
   "metadata": {
    "collapsed": false,
    "ExecuteTime": {
     "end_time": "2023-12-17T04:07:41.494416Z",
     "start_time": "2023-12-17T04:07:41.476225Z"
    }
   },
   "id": "816462dcbc900b3e"
  },
  {
   "cell_type": "code",
   "execution_count": null,
   "outputs": [],
   "source": [],
   "metadata": {
    "collapsed": false
   },
   "id": "3caddc7bf4e2dfb5"
  }
 ],
 "metadata": {
  "kernelspec": {
   "display_name": "Python 3",
   "language": "python",
   "name": "python3"
  },
  "language_info": {
   "codemirror_mode": {
    "name": "ipython",
    "version": 2
   },
   "file_extension": ".py",
   "mimetype": "text/x-python",
   "name": "python",
   "nbconvert_exporter": "python",
   "pygments_lexer": "ipython2",
   "version": "2.7.6"
  }
 },
 "nbformat": 4,
 "nbformat_minor": 5
}
