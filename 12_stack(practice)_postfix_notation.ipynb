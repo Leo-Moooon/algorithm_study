{
 "cells": [
  {
   "cell_type": "markdown",
   "source": [
    "# 후위 표기법\n",
    "\n",
    "## 중위 표기법과 후위 표기법\n",
    "\n",
    "### 1. 중위 표기법(infix notation)\n",
    "- $(A + B) * (C + D)$\n",
    "- 연산자가 피연산자들의 **사이**에 위치\n",
    "\n",
    "### 2. 후위 표기법(postfix notation)\n",
    "- $A B + C D + *$\n",
    "- 연산자가 피연산자들의 뒤에 위치\n",
    "- 괄호가 없어도 됨\n",
    "\n",
    "---\n",
    "\n",
    "## 중위 표현식 -> 후위 표현식 변환\n",
    "\n",
    "- [중위] $A * B + C$ -> [후위] $A B * C +$\n",
    "- [중위] $A + B * C$ -> [후위] $A B C * +$"
   ],
   "metadata": {
    "collapsed": false
   },
   "id": "88423a03fad15dc"
  },
  {
   "cell_type": "code",
   "execution_count": 1,
   "id": "initial_id",
   "metadata": {
    "collapsed": true,
    "ExecuteTime": {
     "end_time": "2023-12-16T09:19:01.817066Z",
     "start_time": "2023-12-16T09:19:01.813266Z"
    }
   },
   "outputs": [],
   "source": [
    "class ArrayStack:\n",
    "    def __init__(self):\n",
    "        self.data = []\n",
    "    \n",
    "    def size(self):\n",
    "        return len(self.data)\n",
    "    \n",
    "    def isEmpty(self):\n",
    "        return self.size() == 0\n",
    "    \n",
    "    def push(self, item):\n",
    "        self.data.append(item)\n",
    "    \n",
    "    def pop(self):\n",
    "        return self.data.pop()\n",
    "    \n",
    "    def peek(self):\n",
    "        return self.data[-1]"
   ]
  },
  {
   "cell_type": "code",
   "execution_count": 43,
   "outputs": [],
   "source": [
    "# 연산자의 우선순위 설정\n",
    "prec = {\n",
    "    '*':3, '/':3,\n",
    "    '+':2, '-':2,\n",
    "    '(':1\n",
    "}"
   ],
   "metadata": {
    "collapsed": false,
    "ExecuteTime": {
     "end_time": "2023-12-16T11:30:46.257334Z",
     "start_time": "2023-12-16T11:30:46.254636Z"
    }
   },
   "id": "f57924f0abfef412"
  },
  {
   "cell_type": "code",
   "execution_count": 166,
   "outputs": [
    {
     "name": "stdout",
     "output_type": "stream",
     "text": [
      "[ Iteration - A ] postfix:  | data: []\n",
      "[ Iteration - * ] postfix: A | data: []\n",
      "[ Iteration - B ] postfix: A | data: ['*']\n",
      "[ Iteration - + ] postfix: AB | data: ['*']\n",
      "popped is larger - +\n",
      "[ Iteration - C ] postfix: AB* | data: ['+']\n",
      "=== infix: A*B+C || postfix: AB*C+\n"
     ]
    },
    {
     "data": {
      "text/plain": "'AB*C+'"
     },
     "execution_count": 166,
     "metadata": {},
     "output_type": "execute_result"
    }
   ],
   "source": [
    "def solution(infix):\n",
    "    opStack = ArrayStack()\n",
    "    \n",
    "    postfix = ''\n",
    "    \n",
    "    for c in infix:\n",
    "        print(f\"[ Iteration - {c} ] postfix: {postfix} | data: {opStack.data}\")\n",
    "        # '('이면 스택에 push\n",
    "        if c == '(':\n",
    "            # print(f\"'(' push | {c}\")\n",
    "            opStack.push(c)\n",
    "    \n",
    "    \n",
    "        # ')'이면 '('이 나올 때까지 스택에서 pop\n",
    "        elif c == ')':\n",
    "            # print(f\"while loop ')'\")\n",
    "            while opStack.peek() != '(':\n",
    "                popped = opStack.pop()\n",
    "                # print(f\"-- loop - {popped}\")\n",
    "                postfix += popped\n",
    "            opStack.pop()\n",
    "    \n",
    "    \n",
    "        # 연산자라면 스택에서 이보다 높거나 같은 우선순위의 것들을 pop, 그리고 연산자는 스택에 push\n",
    "            \n",
    "        elif c in prec:\n",
    "            if opStack.isEmpty():\n",
    "                opStack.push(c)\n",
    "                # print(f\"empty List - {c}\")\n",
    "\n",
    "            elif prec[opStack.peek()] < prec[c]:\n",
    "            #     print(f\"popped is smaller - {c}\")\n",
    "                opStack.push(c)\n",
    "                \n",
    "            else:\n",
    "                peek = opStack.peek()\n",
    "                while (not opStack.isEmpty()) and (prec[peek] >= prec[c]):\n",
    "                    print(f\"popped is larger - {c}\")\n",
    "                    popped = opStack.pop()\n",
    "                    postfix += popped\n",
    "                    \n",
    "                opStack.push(c)\n",
    "                \n",
    "            \n",
    "        # 피연산자면 그냥 출력\n",
    "        else:\n",
    "#             print(f'else - {c}')\n",
    "            postfix += c\n",
    "        \n",
    "    # 스택에 남아있는 연산자는 모두 pop\n",
    "    while not opStack.isEmpty():\n",
    "        popped = opStack.pop()\n",
    "        if popped != '(':\n",
    "            postfix += popped\n",
    "    \n",
    "    \n",
    "    print(f\"=== infix: {infix} || postfix: {postfix}\")\n",
    "    return postfix\n",
    "\n",
    "\n",
    "# # Lv.1\n",
    "# solution('A+B-C') # ABC-+\n",
    "# solution('(A+B)+(C+D)') # AB+CD++ \n",
    "# solution('((A+B)+(C+D))') # AB+CD++\n",
    "# solution('((A+B)+C)+D') # AB+C+D+\n",
    "# solution('A+(B+C+D)') # ABCD+++\n",
    "# \n",
    "# # Lv.2\n",
    "# print(\"\\n=== Lv.2 ===\")\n",
    "# solution('A+B*C-D') # ABC*+D-\n",
    "# solution('A+B*C') # ABC*+\n",
    "solution('A*B+C') # AB*C+\n",
    "# solution('((A+B)*C)-D') # AB+C*D- \n",
    "# solution('(A+B)*(C+D)') # AB+CD+*\n",
    "# solution('A*(B+C)/D') # ABC+*D/"
   ],
   "metadata": {
    "collapsed": false,
    "ExecuteTime": {
     "end_time": "2023-12-16T13:12:02.980372Z",
     "start_time": "2023-12-16T13:12:02.977040Z"
    }
   },
   "id": "91465e7683bb377c"
  },
  {
   "cell_type": "code",
   "execution_count": null,
   "outputs": [],
   "source": [],
   "metadata": {
    "collapsed": false
   },
   "id": "3e434ff4fd588e0c"
  }
 ],
 "metadata": {
  "kernelspec": {
   "display_name": "Python 3",
   "language": "python",
   "name": "python3"
  },
  "language_info": {
   "codemirror_mode": {
    "name": "ipython",
    "version": 2
   },
   "file_extension": ".py",
   "mimetype": "text/x-python",
   "name": "python",
   "nbconvert_exporter": "python",
   "pygments_lexer": "ipython2",
   "version": "2.7.6"
  }
 },
 "nbformat": 4,
 "nbformat_minor": 5
}
