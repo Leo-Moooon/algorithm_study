{
 "cells": [
  {
   "cell_type": "markdown",
   "source": [
    "# 재귀 알고리즘 - 기초"
   ],
   "metadata": {
    "collapsed": false
   },
   "id": "613b8cfdff16b832"
  },
  {
   "cell_type": "markdown",
   "source": [
    "## 자연수의 합 구하기\n",
    "\n",
    "1부터 n까지 모든 자연수의 합을 구하시오"
   ],
   "metadata": {
    "collapsed": false
   },
   "id": "43a404343d843f27"
  },
  {
   "cell_type": "code",
   "execution_count": 57,
   "id": "initial_id",
   "metadata": {
    "collapsed": true,
    "ExecuteTime": {
     "end_time": "2023-12-14T15:28:27.056849Z",
     "start_time": "2023-12-14T15:28:27.053735Z"
    }
   },
   "outputs": [
    {
     "data": {
      "text/plain": "55"
     },
     "execution_count": 57,
     "metadata": {},
     "output_type": "execute_result"
    }
   ],
   "source": [
    "def summation(n):\n",
    "    if n > 0:\n",
    "        return n + summation(n-1)\n",
    "    else:\n",
    "        return n \n",
    "\n",
    "summation(10)"
   ]
  },
  {
   "cell_type": "markdown",
   "source": [
    "- 재귀 호출의 종결 조건을 잘 고려해야 한다."
   ],
   "metadata": {
    "collapsed": false
   },
   "id": "db30e64fd8599e1f"
  },
  {
   "cell_type": "markdown",
   "source": [
    "### 재귀 알고리즘의 효율\n",
    "#### (1) Recursive version"
   ],
   "metadata": {
    "collapsed": false
   },
   "id": "53cd5303bc7a156d"
  },
  {
   "cell_type": "code",
   "execution_count": 66,
   "outputs": [
    {
     "data": {
      "text/plain": "6"
     },
     "execution_count": 66,
     "metadata": {},
     "output_type": "execute_result"
    }
   ],
   "source": [
    "def summation(n):\n",
    "    if n > 0:\n",
    "        return n + summation(n-1)\n",
    "    else:\n",
    "        return n\n",
    "\n",
    "summation(3)"
   ],
   "metadata": {
    "collapsed": false,
    "ExecuteTime": {
     "end_time": "2023-12-14T15:47:23.436437Z",
     "start_time": "2023-12-14T15:47:23.431307Z"
    }
   },
   "id": "bd132082749b91c1"
  },
  {
   "cell_type": "markdown",
   "source": [
    "#### (2) Iterative version"
   ],
   "metadata": {
    "collapsed": false
   },
   "id": "d5d1b46e1579b88e"
  },
  {
   "cell_type": "code",
   "execution_count": 59,
   "outputs": [],
   "source": [
    "def summation(n):\n",
    "    s = 0\n",
    "    while n >= 0:\n",
    "        s += n\n",
    "        n -= 1\n",
    "    \n",
    "    return s"
   ],
   "metadata": {
    "collapsed": false,
    "ExecuteTime": {
     "end_time": "2023-12-14T15:30:41.178121Z",
     "start_time": "2023-12-14T15:30:41.174313Z"
    }
   },
   "id": "aadec381ab5fc0e9"
  },
  {
   "cell_type": "markdown",
   "source": [
    "시간복잡도 비교\n",
    "\n",
    "- Recursive version: O(n)\n",
    "- Iterative version: O(n)\n",
    "\n",
    "recursive version은 n이 커질수록 함수를 호출하는데 드는 비용이 증가하므로, 효율적인 측면에서 우수하다고 할 수는 없음.\n",
    "\n",
    "예시)\n",
    "```python\n",
    "def summation(n):\n",
    "return (n * (n+1)) // 2\n",
    "```\n",
    "\n",
    "효율성만 따지면 위 예시 코드가 O(1)로 가장 우수함"
   ],
   "metadata": {
    "collapsed": false
   },
   "id": "980852e32adede3a"
  },
  {
   "cell_type": "markdown",
   "source": [
    "## 피보나치 수열"
   ],
   "metadata": {
    "collapsed": false
   },
   "id": "59d48a3072ba2c07"
  },
  {
   "cell_type": "code",
   "execution_count": 103,
   "outputs": [
    {
     "data": {
      "text/plain": "13"
     },
     "execution_count": 103,
     "metadata": {},
     "output_type": "execute_result"
    }
   ],
   "source": [
    "def fibonacci_permutation(n): \n",
    "    if   n == 0: return 0\n",
    "    elif n == 1: return 1\n",
    "    \n",
    "    L = [0, 1]\n",
    "    x = 2\n",
    "        \n",
    "    def recursive_sum(L, x):\n",
    "        if x < n:\n",
    "            return recursive_sum([ L[-1], ( L[-1] + L[-2] )], x+1 )\n",
    "        \n",
    "        else:\n",
    "            return L[-1] + L[-2]\n",
    "    \n",
    "    return recursive_sum(L, x)\n",
    "\n",
    "fibonacci_permutation(7)"
   ],
   "metadata": {
    "collapsed": false,
    "ExecuteTime": {
     "end_time": "2023-12-14T16:08:11.790055Z",
     "start_time": "2023-12-14T16:08:11.776466Z"
    }
   },
   "id": "ec085227b3c6147b"
  }
 ],
 "metadata": {
  "kernelspec": {
   "display_name": "Python 3",
   "language": "python",
   "name": "python3"
  },
  "language_info": {
   "codemirror_mode": {
    "name": "ipython",
    "version": 2
   },
   "file_extension": ".py",
   "mimetype": "text/x-python",
   "name": "python",
   "nbconvert_exporter": "python",
   "pygments_lexer": "ipython2",
   "version": "2.7.6"
  }
 },
 "nbformat": 4,
 "nbformat_minor": 5
}
