{
 "cells": [
  {
   "cell_type": "markdown",
   "source": [
    "# 스택\n",
    "\n",
    "자료 (data element)를 보관할 수 있는 (선형) 구조\n",
    "\n",
    "- 단, 넣을 때는 한 쪽 끝에서 넣어야 하고 (push 연산)\n",
    "- 꺼낼 때에는 같은 쪽에서 뽑아서 꺼내줘야 하는 제약이 있음(pop 연산)\n",
    "- 후입선출(LIFO)\n",
    "\n",
    "\n",
    "--- \n",
    "\n",
    "초기상태: 비어 있는 스택\n",
    "\n",
    "---\n",
    "\n",
    "스택에서 발생하는 오류\n",
    "- Stack Underflow: 빈 스택에서 원소를 꺼내려 할 때\n",
    "- Stack Overflow: 꽉 찬 스택에 원소를 넣으려 할 때"
   ],
   "metadata": {
    "collapsed": false
   },
   "id": "a7542660eda0becb"
  },
  {
   "cell_type": "markdown",
   "source": [
    "## 연산 정의\n",
    "\n",
    "1. size() - 현재 스택에 들어있는 데이터 원소의 수\n",
    "2. isEmpty() - 현재 스택이 비어있는지 판단\n",
    "3. push(x) - 데이터 원소 x를 스택에 추가\n",
    "4. pop() - 스택 맨 위에 저장된 데이터 원소 제거 및 반환\n",
    "5. peek() - 스택 맨 위에 저장된 데이터 원소 확인 및 반환(제거하지 않음)"
   ],
   "metadata": {
    "collapsed": false
   },
   "id": "ccb3ad615fc595a9"
  },
  {
   "cell_type": "markdown",
   "source": [
    "## (1) 배열(array)를 이용한 스택 구현"
   ],
   "metadata": {
    "collapsed": false
   },
   "id": "537b8fec26430d87"
  },
  {
   "cell_type": "code",
   "execution_count": null,
   "id": "initial_id",
   "metadata": {
    "collapsed": true
   },
   "outputs": [],
   "source": [
    "class ArrayStack:\n",
    "    def __init__(self):\n",
    "        self.data = []\n",
    "    \n",
    "    def size(self):\n",
    "        return len(self.data)\n",
    "    \n",
    "    def isEmpty(self):\n",
    "        return self.size() == 0\n",
    "    \n",
    "    def push(self, item):\n",
    "        self.data.append(item)\n",
    "    \n",
    "    def pop(self):\n",
    "        return self.data.pop()\n",
    "    \n",
    "    def peek(self):\n",
    "        return self.data[-1]"
   ]
  },
  {
   "cell_type": "markdown",
   "source": [
    "## (2) 연결 리스트를 이용한 스택 구현"
   ],
   "metadata": {
    "collapsed": false
   },
   "id": "d5fd46603784b8"
  },
  {
   "cell_type": "code",
   "execution_count": 2,
   "outputs": [],
   "source": [
    "class Node:\n",
    "    def __init__(self, item):\n",
    "        self.data = item\n",
    "        self.prev= None\n",
    "        self.next = None\n",
    "\n",
    "class DoublyLinkedList:\n",
    "    def __init__(self):\n",
    "        self.nodeCount = 0\n",
    "        self.head = Node(None) # Dummy Node\n",
    "        self.tail = Node(None) # Dummy Node\n",
    "        \n",
    "        self.head.next = self.tail\n",
    "        self.tail.prev = self.head\n",
    "    \n",
    "    \n",
    "    def __repr__(self):\n",
    "        if self.nodeCount == 0:\n",
    "            return \"DoublyLinkedList: empty\"\n",
    "        \n",
    "        s = ''\n",
    "        curr = self.head.next\n",
    "        while curr.next is not None:\n",
    "            s += repr(curr.data)\n",
    "            \n",
    "            if curr.next.next is not None:\n",
    "                s += ' -> '\n",
    "            curr = curr.next\n",
    "        \n",
    "        return s\n",
    "\n",
    "    def __len__(self):\n",
    "        return self.nodeCount\n",
    "    \n",
    "    \n",
    "    def traverse(self, reverse=False):\n",
    "        result = []\n",
    "        if reverse:\n",
    "            curr = self.head\n",
    "            while curr.next.next:\n",
    "                curr = curr.next\n",
    "                result.append(curr.data)\n",
    "                \n",
    "        else:\n",
    "            curr = self.tail\n",
    "            while curr.prev.prev:\n",
    "                curr = curr.prev\n",
    "                result.append(curr.data)\n",
    "        \n",
    "        return result\n",
    "    \n",
    "    \n",
    "    def getAt(self, pos):\n",
    "        if (pos < 0) or (pos > self.nodeCount):\n",
    "            raise IndexError\n",
    "        \n",
    "        if pos < self.nodeCount // 2:\n",
    "            i = 0\n",
    "            curr = self.head\n",
    "            \n",
    "            while i < pos:\n",
    "                curr = curr.next\n",
    "                i += 1\n",
    "        \n",
    "        else:\n",
    "            i = 0\n",
    "            curr = self.tail\n",
    "\n",
    "            while i < self.nodeCount - pos + 1:\n",
    "                curr = curr.prev\n",
    "                i += 1\n",
    "        return curr\n",
    "    \n",
    "    \n",
    "    def insertAfter(self, prev, newNode):\n",
    "        next = prev.next\n",
    "        \n",
    "        newNode.prev = prev\n",
    "        newNode.next = next\n",
    "        \n",
    "        prev.next = newNode\n",
    "        next.prev = newNode\n",
    "        \n",
    "        self.nodeCount += 1\n",
    "        return True\n",
    "    \n",
    "    \n",
    "    def insertAt(self, pos, newNode):\n",
    "        if (pos < 1) or (pos > self.nodeCount + 1):\n",
    "            raise IndexError\n",
    "        \n",
    "        prev = self.getAt(pos-1)\n",
    "        return self.insertAfter(prev, newNode)\n",
    "    \n",
    "    \n",
    "    def insertBefore(self, next, newNode):\n",
    "        prev = next.prev\n",
    "        \n",
    "        newNode.prev = prev\n",
    "        newNode.next = next\n",
    "        \n",
    "        prev.next = newNode\n",
    "        next.prev = newNode\n",
    "        \n",
    "        self.nodeCount += 1\n",
    "        return True\n",
    "    \n",
    "    \n",
    "    def popAfter(self, prev):\n",
    "        curr = prev.next\n",
    "        next = curr.next\n",
    "        \n",
    "        prev.next = curr.next\n",
    "        next.prev = prev\n",
    "        \n",
    "        self.nodeCount -= 1\n",
    "        return curr.data\n",
    "    \n",
    "    \n",
    "    def popBefore(self, next):\n",
    "        curr = next.prev\n",
    "        prev = curr.prev\n",
    "        \n",
    "        prev.next = next\n",
    "        next.prev = prev\n",
    "        \n",
    "        self.nodeCount -= 1\n",
    "        return curr.data\n",
    "    \n",
    "    \n",
    "    def popAt(self, pos):\n",
    "        if (pos < 1) or (pos > self.nodeCount):\n",
    "            raise IndexError\n",
    "        \n",
    "        prev = self.getAt(pos-1)\n",
    "        return self.popAfter(prev)\n",
    "    \n",
    "    \n",
    "    def concat(self, L):\n",
    "        prev = self.tail.prev\n",
    "        next = L.head.next\n",
    "        \n",
    "        prev.next = next\n",
    "        next.prev = prev\n",
    "        \n",
    "        self.tail = L.tail\n",
    "        self.nodeCount += L.nodeCount    \n",
    "            "
   ],
   "metadata": {
    "collapsed": false,
    "ExecuteTime": {
     "end_time": "2023-12-16T08:18:51.684609Z",
     "start_time": "2023-12-16T08:18:51.682258Z"
    }
   },
   "id": "d77df8e095ba0507"
  },
  {
   "cell_type": "code",
   "execution_count": 3,
   "outputs": [],
   "source": [
    "class LinkedListStack:\n",
    "    def __init__(self):\n",
    "        self.data = DoublyLinkedList()\n",
    "    \n",
    "    def size(self):\n",
    "        return len(self.data)\n",
    "    \n",
    "    def isEmpty(self):\n",
    "        return self.size() == 0\n",
    "    \n",
    "    def push(self, item):\n",
    "        self.data.insertAt(self.size()+1, Node(item))\n",
    "    \n",
    "    def pop(self):\n",
    "        return self.data.popAt(self.size())\n",
    "    \n",
    "    def peek(self):\n",
    "        return self.data.getAt(self.size()).data"
   ],
   "metadata": {
    "collapsed": false,
    "ExecuteTime": {
     "end_time": "2023-12-16T08:24:54.385517Z",
     "start_time": "2023-12-16T08:24:54.371636Z"
    }
   },
   "id": "2d3a7b1d22dcd77b"
  },
  {
   "cell_type": "markdown",
   "source": [
    "### (3) 라이브러리 이용"
   ],
   "metadata": {
    "collapsed": false
   },
   "id": "4d3c2bb3fec2ba69"
  },
  {
   "cell_type": "code",
   "execution_count": 4,
   "outputs": [],
   "source": [
    "from pythonds.basic.stack import Stack"
   ],
   "metadata": {
    "collapsed": false,
    "ExecuteTime": {
     "end_time": "2023-12-16T08:27:28.502206Z",
     "start_time": "2023-12-16T08:27:28.491096Z"
    }
   },
   "id": "c40a17a1faf68e18"
  },
  {
   "cell_type": "code",
   "execution_count": 5,
   "outputs": [
    {
     "data": {
      "text/plain": "['__class__',\n '__delattr__',\n '__dict__',\n '__dir__',\n '__doc__',\n '__eq__',\n '__format__',\n '__ge__',\n '__getattribute__',\n '__gt__',\n '__hash__',\n '__init__',\n '__init_subclass__',\n '__le__',\n '__lt__',\n '__module__',\n '__ne__',\n '__new__',\n '__reduce__',\n '__reduce_ex__',\n '__repr__',\n '__setattr__',\n '__sizeof__',\n '__str__',\n '__subclasshook__',\n '__weakref__',\n 'isEmpty',\n 'items',\n 'peek',\n 'pop',\n 'push',\n 'size']"
     },
     "execution_count": 5,
     "metadata": {},
     "output_type": "execute_result"
    }
   ],
   "source": [
    "S = Stack()\n",
    "\n",
    "dir(S)"
   ],
   "metadata": {
    "collapsed": false,
    "ExecuteTime": {
     "end_time": "2023-12-16T08:27:34.260754Z",
     "start_time": "2023-12-16T08:27:34.250317Z"
    }
   },
   "id": "3f5fe776be331f3b"
  },
  {
   "cell_type": "code",
   "execution_count": 15,
   "outputs": [
    {
     "data": {
      "text/plain": "False"
     },
     "execution_count": 15,
     "metadata": {},
     "output_type": "execute_result"
    }
   ],
   "source": [
    "S = LinkedListStack()\n",
    "\n",
    "string = '[)(1+2) + (3+4)'\n",
    "FLAG = True\n",
    "\n",
    "for s in string:\n",
    "    if s in '({]':\n",
    "        S.push(s)\n",
    "    \n",
    "    if s in ')}]':\n",
    "        if S.isEmpty(): # 빈 스택일 때\n",
    "            FLAG = False\n",
    "            break\n",
    "            \n",
    "        popped = S.pop()\n",
    "        \n",
    "        condition_1 = (popped == '(') and (s == ')') \n",
    "        condition_2 = (popped == '{') and (s == '}') \n",
    "        condition_3 = (popped == '[') and (s == ']') \n",
    "        \n",
    "        if not (condition_1 or condition_2 or condition_3):\n",
    "            FLAG = False\n",
    "            break\n",
    "\n",
    "if not S.isEmpty(): # 빈 스택이 아니면\n",
    "    FLAG = False\n",
    "\n",
    "FLAG"
   ],
   "metadata": {
    "collapsed": false,
    "ExecuteTime": {
     "end_time": "2023-12-16T08:41:46.465760Z",
     "start_time": "2023-12-16T08:41:46.462354Z"
    }
   },
   "id": "a90062204c8ce2b8"
  },
  {
   "cell_type": "code",
   "execution_count": null,
   "outputs": [],
   "source": [],
   "metadata": {
    "collapsed": false
   },
   "id": "79ed54cf574bd53a"
  }
 ],
 "metadata": {
  "kernelspec": {
   "display_name": "Python 3",
   "language": "python",
   "name": "python3"
  },
  "language_info": {
   "codemirror_mode": {
    "name": "ipython",
    "version": 2
   },
   "file_extension": ".py",
   "mimetype": "text/x-python",
   "name": "python",
   "nbconvert_exporter": "python",
   "pygments_lexer": "ipython2",
   "version": "2.7.6"
  }
 },
 "nbformat": 4,
 "nbformat_minor": 5
}
