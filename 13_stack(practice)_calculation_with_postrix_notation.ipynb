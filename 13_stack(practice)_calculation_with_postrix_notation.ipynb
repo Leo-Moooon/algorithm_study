{
 "cells": [
  {
   "cell_type": "markdown",
   "source": [
    "# 후위 표기 수식 계산\n",
    "\n",
    "- 피연산자를 스택에 담고 연산자 만날때마다 직전 2개 피연산자를 꺼내서 연산 진행\n",
    "- 합쳐진 연산식은 다시 스택에 추가\n",
    "- 순서에 유의"
   ],
   "metadata": {
    "collapsed": false
   },
   "id": "f64e20c46ea5427f"
  },
  {
   "cell_type": "code",
   "execution_count": 5,
   "outputs": [],
   "source": [
    "class ArrayStack:\n",
    "    def __init__(self):\n",
    "        self.data = []\n",
    "    \n",
    "    def size(self):\n",
    "        return len(self.data)\n",
    "    \n",
    "    def isEmpty(self):\n",
    "        return self.size() == 0\n",
    "    \n",
    "    def push(self, item):\n",
    "        self.data.append(item)\n",
    "    \n",
    "    def pop(self):\n",
    "        return self.data.pop()\n",
    "    \n",
    "    def peek(self):\n",
    "        return self.data[-1]"
   ],
   "metadata": {
    "collapsed": false,
    "ExecuteTime": {
     "end_time": "2023-12-17T01:41:03.543493Z",
     "start_time": "2023-12-17T01:41:03.538086Z"
    }
   },
   "id": "initial_id"
  },
  {
   "cell_type": "code",
   "execution_count": 6,
   "outputs": [],
   "source": [
    "def splitTokens(exprStr):\n",
    "    \"\"\" Split tokens from expression with infix notation\n",
    "    \n",
    "    :param exprStr: Expression with infix notation \n",
    "    :return: (list) Splitted tokens\n",
    "    \"\"\"\n",
    "    tokens = []\n",
    "    val = 0\n",
    "    valProcessing = False\n",
    "    for c in exprStr:\n",
    "        if c == ' ':\n",
    "            continue\n",
    "            \n",
    "        if c in '0123456789':\n",
    "            val = val * 10 + int(c)\n",
    "            valProcessing = True\n",
    "            \n",
    "        else:\n",
    "            if valProcessing:\n",
    "                tokens.append(val)\n",
    "                val = 0\n",
    "            valProcessing = False\n",
    "            tokens.append(c)\n",
    "    \n",
    "    if valProcessing:\n",
    "        tokens.append(val)\n",
    "    \n",
    "    return tokens"
   ],
   "metadata": {
    "collapsed": false,
    "ExecuteTime": {
     "end_time": "2023-12-17T01:41:06.199045Z",
     "start_time": "2023-12-17T01:41:06.194760Z"
    }
   },
   "id": "3d8de89fac736176"
  },
  {
   "cell_type": "code",
   "execution_count": 32,
   "outputs": [
    {
     "data": {
      "text/plain": "'10 3 +'"
     },
     "execution_count": 32,
     "metadata": {},
     "output_type": "execute_result"
    }
   ],
   "source": [
    "def infix_to_postfix(tokenList, return_type='list'):\n",
    "    prec = {\n",
    "        '*':3, '/':3,\n",
    "        '+':2, '-':2,\n",
    "        '(':1\n",
    "    }\n",
    "    \n",
    "    opStack = ArrayStack()\n",
    "    postfixList = []\n",
    "    \n",
    "    for token in tokenList:\n",
    "        # 피연산자일 때\n",
    "        if type(token) is int:\n",
    "            postfixList.append(token)\n",
    "        \n",
    "        # 여는 괄호일 때\n",
    "        elif token == '(':\n",
    "            opStack.push(token)\n",
    "        \n",
    "        # 닫는 관호일 때\n",
    "        elif token == ')':\n",
    "            while opStack.peek() != '(':\n",
    "                postfixList.append(opStack.pop())\n",
    "            opStack.pop()\n",
    "        \n",
    "        # 연산자일 때\n",
    "        else:\n",
    "            if opStack.isEmpty():\n",
    "                opStack.push(token)\n",
    "            \n",
    "            # 마지막 원소가 token보다 작을 때\n",
    "            elif prec[opStack.peek()] < prec[token]:\n",
    "                opStack.push(token)\n",
    "            \n",
    "            else:\n",
    "                while (not opStack.isEmpty()) and (prec[opStack.peek()] >= prec[token]):\n",
    "                    postfixList.append(opStack.pop())\n",
    "                opStack.push(token)\n",
    "            \n",
    "    \n",
    "    while not opStack.isEmpty():\n",
    "        if opStack.peek() != '(':\n",
    "            postfixList.append(opStack.pop())\n",
    "    \n",
    "    if return_type == 'str':\n",
    "        return ' '.join(map(str, postfixList))\n",
    "    \n",
    "    elif return_type == 'list':\n",
    "        return postfixList\n",
    "\n",
    "infix_to_postfix(splitTokens('10+3'), return_type='str')"
   ],
   "metadata": {
    "collapsed": false,
    "ExecuteTime": {
     "end_time": "2023-12-17T02:51:18.213829Z",
     "start_time": "2023-12-17T02:51:18.209402Z"
    }
   },
   "id": "35c940c7f451522"
  },
  {
   "cell_type": "code",
   "execution_count": 38,
   "outputs": [
    {
     "data": {
      "text/plain": "25"
     },
     "execution_count": 38,
     "metadata": {},
     "output_type": "execute_result"
    }
   ],
   "source": [
    "def postfixEval(tokenList):\n",
    "    valStack = ArrayStack()\n",
    "    \n",
    "    for token in tokenList:\n",
    "        if type(token) is int:\n",
    "            valStack.push(token)\n",
    "        \n",
    "        else:\n",
    "            operand_2, operand_1 = valStack.pop(), valStack.pop()\n",
    "            if token == '*':\n",
    "                output = operand_1 * operand_2\n",
    "                valStack.push(output)\n",
    "            \n",
    "            elif token == '/':\n",
    "                output = operand_1 / operand_2\n",
    "                valStack.push(output)\n",
    "                \n",
    "            elif token == '+':\n",
    "                output = operand_1 + operand_2\n",
    "                valStack.push(output)\n",
    "                pass\n",
    "            \n",
    "            elif token == '-':\n",
    "                output = operand_1 - operand_2\n",
    "                valStack.push(output)\n",
    "        \n",
    "    return valStack.pop()\n",
    "\n",
    "\n",
    "def solution(infix):\n",
    "    tokens = splitTokens(infix)\n",
    "    postfix = infix_to_postfix(tokens)\n",
    "    val = postfixEval(postfix)\n",
    "    \n",
    "    return val\n",
    "\n",
    "\n",
    "solution('10+5*3')"
   ],
   "metadata": {
    "collapsed": false,
    "ExecuteTime": {
     "end_time": "2023-12-17T03:03:09.427539Z",
     "start_time": "2023-12-17T03:03:09.419825Z"
    }
   },
   "id": "c4654702bb2e2b12"
  },
  {
   "cell_type": "code",
   "execution_count": null,
   "outputs": [],
   "source": [],
   "metadata": {
    "collapsed": false
   },
   "id": "ca9dfdc7b0c08c1e"
  }
 ],
 "metadata": {
  "kernelspec": {
   "display_name": "Python 3",
   "language": "python",
   "name": "python3"
  },
  "language_info": {
   "codemirror_mode": {
    "name": "ipython",
    "version": 2
   },
   "file_extension": ".py",
   "mimetype": "text/x-python",
   "name": "python",
   "nbconvert_exporter": "python",
   "pygments_lexer": "ipython2",
   "version": "2.7.6"
  }
 },
 "nbformat": 4,
 "nbformat_minor": 5
}
