{
 "cells": [
  {
   "cell_type": "markdown",
   "source": [
    "# 알고리즘의 복잡도\n",
    "\n",
    "## 공간 복잡도 (Space Complexity)\n",
    "문제의 크기와 이를 해결하는 데 필요한 메모리 공간 사이의 관계\n",
    "\n"
   ],
   "metadata": {
    "collapsed": false
   },
   "id": "716b998d2105773c"
  },
  {
   "cell_type": "markdown",
   "source": [
    "## 시간 복잡도 (Time Complexity)\n",
    "- 문제의 크기와 이를 해결하는 데 걸리는 시간 사이의 관계\n",
    "\n",
    "<br>\n",
    "\n",
    "1. 평균 시간 복잡도 (Average Time Complexity)\n",
    "- 임의의 입력 패턴을 가정했을 때 소요되는 시간의 평균\n",
    "\n",
    "2. 최악 시간 복잡도 (Worst-case Time Complexity)\n",
    "- 가장 긴 시간을 소요하게 만드는 입력에 따라 소요되는 시간"
   ],
   "metadata": {
    "collapsed": false
   },
   "id": "73f83e033f16b1ea"
  },
  {
   "cell_type": "markdown",
   "source": [
    "### Big-O Notation\n",
    "- 점근 표기법(asymptotic notation)의 하나\n",
    "\n",
    "어떤 함수의 증가 양상을 다른 함수와의 비교로 표현\n",
    "(알고리즘의 복잡도를 표현할 때 흔히 사용됨)\n",
    "- $O(log n)$, $O(n)$, $O(n^2)$, $O(2^n)$ 등으로 표기"
   ],
   "metadata": {
    "collapsed": false
   },
   "id": "4f9114838db9b675"
  },
  {
   "cell_type": "markdown",
   "source": [
    "## 선형 시간 알고리즘 - $O(n)$\n",
    "- 예) 선형 탐색 알고리즘"
   ],
   "metadata": {
    "collapsed": false
   },
   "id": "21b0fc6e56b941f9"
  },
  {
   "cell_type": "markdown",
   "source": [
    "## 로그 시간 알고리즘 - $O(log n)$\n",
    "- 예) 이진 탐색 알고리즘: n개의 크리 순으로 정렬된 수에서 특정 값 찾기"
   ],
   "metadata": {
    "collapsed": false
   },
   "id": "9f1bff3af3d698bd"
  },
  {
   "cell_type": "markdown",
   "source": [
    "## 이차 시간 알고리즘 - $O(n^2)$\n",
    "- 예) 삽입 정렬(insertion sort)"
   ],
   "metadata": {
    "collapsed": false
   },
   "id": "dd860ec2de3b5be9"
  },
  {
   "cell_type": "markdown",
   "source": [
    "보다 나은(낮은) 복잡도를 가지는 정렬 알고리즘\n",
    "- 예) 병합 정렬(merge sort) $O(nlogn)$\n",
    "    - 정렬할 데이터를 반씩 나누어 각각 정렬시킨다. $O(log n)$\n",
    "    - 정렬된 데이터를 두 묶음씩 한데 합친다 $O(n)$"
   ],
   "metadata": {
    "collapsed": false
   },
   "id": "262e0dc926ef33aa"
  },
  {
   "cell_type": "markdown",
   "source": [
    "### 그 외) 꽤나 복잡한 문제\n",
    "\n",
    "- 유명한 예) 배낭 문제(Knapsack Problem)"
   ],
   "metadata": {
    "collapsed": false
   },
   "id": "a564f82d0c10ef26"
  },
  {
   "cell_type": "code",
   "execution_count": null,
   "outputs": [],
   "source": [],
   "metadata": {
    "collapsed": false
   },
   "id": "7890e2b0ceffeec4"
  }
 ],
 "metadata": {
  "kernelspec": {
   "display_name": "Python 3",
   "language": "python",
   "name": "python3"
  },
  "language_info": {
   "codemirror_mode": {
    "name": "ipython",
    "version": 2
   },
   "file_extension": ".py",
   "mimetype": "text/x-python",
   "name": "python",
   "nbconvert_exporter": "python",
   "pygments_lexer": "ipython2",
   "version": "2.7.6"
  }
 },
 "nbformat": 4,
 "nbformat_minor": 5
}
