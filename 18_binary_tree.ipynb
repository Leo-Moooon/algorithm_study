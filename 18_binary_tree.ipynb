{
 "cells": [
  {
   "cell_type": "markdown",
   "source": [
    "# 이진 트리\n",
    "\n",
    "## 연산 정의\n",
    "- size() : 현재 트리의 노드 수\n",
    "- depth() : 현재 트리의 깊이 (== height)\n",
    "- traversal() : 순회\n",
    "    - 깊이 우선 순회(depth first traversal)\n",
    "        - 중위 순회(in-order traversal)\n",
    "        - 전위 순회(pre-order traversal)\n",
    "        - 후위 순회(post-order traversal)\n",
    "    - 넓이 우선 순회(breadth first traversal)\n",
    "\n",
    "---\n",
    "\n",
    "1. 중위 순회(in-order traversal)\n",
    "\n",
    "순회 순서\n",
    "\n",
    "    1. left subtree\n",
    "    2. 자기 자신\n",
    "    3. right subtree"
   ],
   "metadata": {
    "collapsed": false
   },
   "id": "77266d9dffe7e9f8"
  },
  {
   "cell_type": "code",
   "execution_count": 8,
   "id": "initial_id",
   "metadata": {
    "collapsed": true,
    "ExecuteTime": {
     "end_time": "2023-12-26T02:51:26.942651Z",
     "start_time": "2023-12-26T02:51:26.940682Z"
    }
   },
   "outputs": [],
   "source": [
    "class Node:\n",
    "    def __init__(self, item):\n",
    "        self.data = item\n",
    "        self.left = None\n",
    "        self.right = None\n",
    "    \n",
    "    def size(self):\n",
    "        l = self.left.size() if self.left else 0\n",
    "        r = self.right.size() if self.right else 0\n",
    "        \n",
    "        return l + r + 1\n",
    "    \n",
    "    def depth(self):\n",
    "        l = self.left.depth() if self.left else 0\n",
    "        r = self.right.depth() if self.right else 0\n",
    "        \n",
    "        return max(l, r) + 1\n",
    "    \n",
    "    def inorder(self):\n",
    "        traversal = []\n",
    "        \n",
    "        if self.left:   traversal += self.left.inorder()\n",
    "        traversal.append(self.data)\n",
    "        if self.right:  traversal += self.right.inorder()\n",
    "        \n",
    "        return traversal\n",
    "    \n",
    "    def preorder(self):\n",
    "        traversal = []\n",
    "        \n",
    "        traversal.append(self.data)\n",
    "        if self.left:   traversal += self.left.preorder()\n",
    "        if self.right:  traversal += self.right.preorder()\n",
    "            \n",
    "        return traversal\n",
    "    \n",
    "    def postorder(self):\n",
    "        traversal = []\n",
    "        \n",
    "        if self.left:   traversal += self.left.postorder()\n",
    "        if self.right:  traversal += self.right.postorder()\n",
    "        traversal.append(self.data)\n",
    "        \n",
    "        return traversal"
   ]
  },
  {
   "cell_type": "code",
   "execution_count": 3,
   "outputs": [],
   "source": [
    "class BinaryTree:\n",
    "    def __init__(self, r):\n",
    "        self.root = r\n",
    "    \n",
    "    def size(self):\n",
    "        return self.root.size() if self.root else 0\n",
    "    \n",
    "    def depth(self):\n",
    "        return self.root.depth() if self.root else 0\n",
    "    \n",
    "    def inorder(self):\n",
    "        return self.root.inorder() if self.root else []\n",
    "        \n",
    "    def preorder(self):\n",
    "        return self.root.preorder() if self.root else []\n",
    "    \n",
    "    def postorder(self):\n",
    "        return self.root.postorder() if self.root else []"
   ],
   "metadata": {
    "collapsed": false,
    "ExecuteTime": {
     "end_time": "2023-12-26T02:49:41.789628Z",
     "start_time": "2023-12-26T02:49:41.777768Z"
    }
   },
   "id": "3906ceb340448180"
  },
  {
   "cell_type": "code",
   "execution_count": null,
   "outputs": [],
   "source": [],
   "metadata": {
    "collapsed": false
   },
   "id": "85011f49f1cd63d6"
  }
 ],
 "metadata": {
  "kernelspec": {
   "display_name": "Python 3",
   "language": "python",
   "name": "python3"
  },
  "language_info": {
   "codemirror_mode": {
    "name": "ipython",
    "version": 2
   },
   "file_extension": ".py",
   "mimetype": "text/x-python",
   "name": "python",
   "nbconvert_exporter": "python",
   "pygments_lexer": "ipython2",
   "version": "2.7.6"
  }
 },
 "nbformat": 4,
 "nbformat_minor": 5
}
