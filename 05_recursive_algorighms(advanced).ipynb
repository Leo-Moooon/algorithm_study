{
 "cells": [
  {
   "cell_type": "markdown",
   "source": [
    "# 재귀 알고리즘 - 응용\n",
    "\n",
    "재귀 알고리즘은 사람의 사고를 잘 반영한다는 장점이 있지만, <br>\n",
    "효율성 측면에서는 counter-part인 반복적 접근(while문 등)에 비해 밀린다. \n",
    "\n",
    "## 조합의 수 계산"
   ],
   "metadata": {
    "collapsed": false
   },
   "id": "94ef3379b8b543a1"
  },
  {
   "cell_type": "code",
   "execution_count": 19,
   "id": "initial_id",
   "metadata": {
    "collapsed": true,
    "ExecuteTime": {
     "end_time": "2023-12-15T02:50:45.114154Z",
     "start_time": "2023-12-15T02:50:45.107162Z"
    }
   },
   "outputs": [
    {
     "data": {
      "text/plain": "210"
     },
     "execution_count": 19,
     "metadata": {},
     "output_type": "execute_result"
    }
   ],
   "source": [
    "def factorial(n):\n",
    "    if n > 1:\n",
    "        return n * factorial(n-1)\n",
    "    else:\n",
    "        return n\n",
    "\n",
    "def combination(n, m):\n",
    "    \"\"\" 수학 공식으로 풀이\n",
    "    \n",
    "    :param n: \n",
    "    :param m: \n",
    "    :return: \n",
    "    \"\"\"\n",
    "    return factorial(n) // (factorial(m) * factorial(n-m))\n",
    "\n",
    "combination(10, 4)"
   ]
  },
  {
   "cell_type": "code",
   "execution_count": 20,
   "outputs": [
    {
     "data": {
      "text/plain": "210"
     },
     "execution_count": 20,
     "metadata": {},
     "output_type": "execute_result"
    }
   ],
   "source": [
    "def combination(n, m):\n",
    "    \"\"\"recursive version\"\"\"\n",
    "    if   n == m: return 1\n",
    "    elif m == 0: return 1\n",
    "    else:\n",
    "        return combination(n-1, m) + combination(n-1, m-1)\n",
    "    \n",
    "combination(10, 4)"
   ],
   "metadata": {
    "collapsed": false,
    "ExecuteTime": {
     "end_time": "2023-12-15T02:53:45.511770Z",
     "start_time": "2023-12-15T02:53:45.508142Z"
    }
   },
   "id": "84aa2b363345ad92"
  },
  {
   "cell_type": "markdown",
   "source": [
    "## 재귀적 이진탐색"
   ],
   "metadata": {
    "collapsed": false
   },
   "id": "145665f14aab9e56"
  },
  {
   "cell_type": "code",
   "execution_count": 6,
   "outputs": [
    {
     "data": {
      "text/plain": "15"
     },
     "execution_count": 6,
     "metadata": {},
     "output_type": "execute_result"
    }
   ],
   "source": [
    "def binary_search(L, x, lower, upper):\n",
    "    if lower > upper: \n",
    "        return -1\n",
    "    \n",
    "    middle = (lower + upper) // 2\n",
    "    \n",
    "    if L[middle] == x:\n",
    "        return middle\n",
    "    \n",
    "    elif L[middle] < x:\n",
    "        return binary_search(L, x, middle+1, upper)\n",
    "    \n",
    "    else:\n",
    "        return binary_search(L, x, lower, middle-1)\n",
    "        \n",
    "    \n",
    "    \n",
    "L = [1, 3, 7, 8, 12, 15, 17, 21, \n",
    "     24, 30, 32, 34, 39, 45, 51, 62]\n",
    "\n",
    "binary_search(L, 62, 0, len(L)-1)"
   ],
   "metadata": {
    "collapsed": false,
    "ExecuteTime": {
     "end_time": "2023-12-15T03:26:51.141464Z",
     "start_time": "2023-12-15T03:26:51.134893Z"
    }
   },
   "id": "c2780309535fed16"
  }
 ],
 "metadata": {
  "kernelspec": {
   "display_name": "Python 3",
   "language": "python",
   "name": "python3"
  },
  "language_info": {
   "codemirror_mode": {
    "name": "ipython",
    "version": 2
   },
   "file_extension": ".py",
   "mimetype": "text/x-python",
   "name": "python",
   "nbconvert_exporter": "python",
   "pygments_lexer": "ipython2",
   "version": "2.7.6"
  }
 },
 "nbformat": 4,
 "nbformat_minor": 5
}
