{
 "cells": [
  {
   "cell_type": "markdown",
   "source": [
    "# 정렬"
   ],
   "metadata": {
    "collapsed": false
   },
   "id": "fa6cbfa40dbabc0a"
  },
  {
   "cell_type": "markdown",
   "source": [
    "## 1) sorted(), .sort()"
   ],
   "metadata": {
    "collapsed": false
   },
   "id": "2f178f8140e52899"
  },
  {
   "cell_type": "code",
   "execution_count": 1,
   "id": "initial_id",
   "metadata": {
    "collapsed": true,
    "ExecuteTime": {
     "end_time": "2023-12-14T02:45:35.499843Z",
     "start_time": "2023-12-14T02:45:35.496847Z"
    }
   },
   "outputs": [],
   "source": [
    "L = [3, 8, 2, 7, 6, 10, 9]"
   ]
  },
  {
   "cell_type": "code",
   "execution_count": 4,
   "outputs": [
    {
     "data": {
      "text/plain": "[2, 3, 6, 7, 8, 9, 10]"
     },
     "execution_count": 4,
     "metadata": {},
     "output_type": "execute_result"
    }
   ],
   "source": [
    "L2 = sorted(L)\n",
    "L2"
   ],
   "metadata": {
    "collapsed": false,
    "ExecuteTime": {
     "end_time": "2023-12-14T02:45:47.134724Z",
     "start_time": "2023-12-14T02:45:47.131625Z"
    }
   },
   "id": "bca329e481d4ce5b"
  },
  {
   "cell_type": "code",
   "execution_count": 5,
   "outputs": [
    {
     "data": {
      "text/plain": "[2, 3, 6, 7, 8, 9, 10]"
     },
     "execution_count": 5,
     "metadata": {},
     "output_type": "execute_result"
    }
   ],
   "source": [
    "L.sort()\n",
    "L"
   ],
   "metadata": {
    "collapsed": false,
    "ExecuteTime": {
     "end_time": "2023-12-14T02:45:51.062989Z",
     "start_time": "2023-12-14T02:45:51.057464Z"
    }
   },
   "id": "ca2edc579422afb3"
  },
  {
   "cell_type": "markdown",
   "source": [
    "## 특정 기준으로 정렬하고자 할때"
   ],
   "metadata": {
    "collapsed": false
   },
   "id": "99249c70ce477d58"
  },
  {
   "cell_type": "code",
   "execution_count": 8,
   "outputs": [
    {
     "data": {
      "text/plain": "['xyz', 'spam', 'abcde']"
     },
     "execution_count": 8,
     "metadata": {},
     "output_type": "execute_result"
    }
   ],
   "source": [
    "L = ['abcde', 'xyz', 'spam']\n",
    "sorted(L, key=lambda x: len(x)) # 문자열 길이 순 정렬"
   ],
   "metadata": {
    "collapsed": false,
    "ExecuteTime": {
     "end_time": "2023-12-14T02:48:09.526033Z",
     "start_time": "2023-12-14T02:48:09.523305Z"
    }
   },
   "id": "53c7126e3e3fe294"
  },
  {
   "cell_type": "code",
   "execution_count": 10,
   "outputs": [
    {
     "data": {
      "text/plain": "[{'name': 'Paul', 'score': 92}, {'name': 'John', 'score': 83}]"
     },
     "execution_count": 10,
     "metadata": {},
     "output_type": "execute_result"
    }
   ],
   "source": [
    "L = [{'name' : 'John', 'score' : 83},\n",
    "     {'name' : 'Paul', 'score' : 92}]\n",
    "\n",
    "sorted(L, key=lambda x: x['score'], reverse=True) # 'score' 높은 순 정렬"
   ],
   "metadata": {
    "collapsed": false,
    "ExecuteTime": {
     "end_time": "2023-12-14T02:49:29.216380Z",
     "start_time": "2023-12-14T02:49:29.210490Z"
    }
   },
   "id": "be0fc6d3384ac0df"
  },
  {
   "cell_type": "markdown",
   "source": [
    "# 탐색\n",
    "\n",
    "## 1) 선형 탐색 | O(n)\n",
    "\n",
    "### 아래 리스트에서 6을 찾으시오"
   ],
   "metadata": {
    "collapsed": false
   },
   "id": "15b634ad2addd447"
  },
  {
   "cell_type": "code",
   "execution_count": 18,
   "outputs": [
    {
     "data": {
      "text/plain": "4"
     },
     "execution_count": 18,
     "metadata": {},
     "output_type": "execute_result"
    }
   ],
   "source": [
    "def linear_search(L, query):\n",
    "    for idx, el in enumerate(L):\n",
    "        if el == query:\n",
    "            return idx\n",
    "    return -1\n",
    "\n",
    "\n",
    "linear_search([3, 8, 2, 7, 6, 10, 9], 6)"
   ],
   "metadata": {
    "collapsed": false,
    "ExecuteTime": {
     "end_time": "2023-12-14T02:54:10.846406Z",
     "start_time": "2023-12-14T02:54:10.844035Z"
    }
   },
   "id": "fbe072817523e22e"
  },
  {
   "cell_type": "markdown",
   "source": [
    "## 2) 이진 탐색(Binary Searhch) | O(log n)\n",
    "\n",
    "- 탐색하려는 리스트가 이미 정렬되어 있는 경우에만 사용 가능\n",
    "- 한 번 비교가 일어날 때마다 리스트를 반씩 줄임 (divide & conquer)"
   ],
   "metadata": {
    "collapsed": false
   },
   "id": "b0c444e2b4fc7352"
  },
  {
   "cell_type": "code",
   "execution_count": null,
   "outputs": [],
   "source": [
    "[1, 2, 3, 4, 5]"
   ],
   "metadata": {
    "collapsed": false
   },
   "id": "c7824ce224a2aa7f"
  },
  {
   "cell_type": "code",
   "execution_count": 20,
   "outputs": [],
   "source": [
    "L = [1, 3, 7, 8, 12, 15, 17, 21, \n",
    "     24, 30, 32, 34, 39, 45, 51, 62]"
   ],
   "metadata": {
    "collapsed": false,
    "ExecuteTime": {
     "end_time": "2023-12-14T02:56:23.368148Z",
     "start_time": "2023-12-14T02:56:23.366118Z"
    }
   },
   "id": "be570ee983205467"
  },
  {
   "cell_type": "code",
   "execution_count": 57,
   "outputs": [
    {
     "data": {
      "text/plain": "15"
     },
     "execution_count": 57,
     "metadata": {},
     "output_type": "execute_result"
    }
   ],
   "source": [
    "def binary_search(L, target):\n",
    "    lower = 0\n",
    "    upper = len(L) - 1\n",
    "\n",
    "    while lower <= upper:\n",
    "        middle = (lower + upper) // 2\n",
    "        \n",
    "        if L[middle] == target:\n",
    "            return middle\n",
    "        \n",
    "        elif L[middle] < target:\n",
    "            lower = middle + 1\n",
    "        \n",
    "        else:\n",
    "            upper = middle - 1\n",
    "            \n",
    "    return -1\n",
    "\n",
    "binary_search(L, 62)"
   ],
   "metadata": {
    "collapsed": false,
    "ExecuteTime": {
     "end_time": "2023-12-14T03:20:26.166485Z",
     "start_time": "2023-12-14T03:20:26.162685Z"
    }
   },
   "id": "c577524cef43236e"
  }
 ],
 "metadata": {
  "kernelspec": {
   "display_name": "Python 3",
   "language": "python",
   "name": "python3"
  },
  "language_info": {
   "codemirror_mode": {
    "name": "ipython",
    "version": 2
   },
   "file_extension": ".py",
   "mimetype": "text/x-python",
   "name": "python",
   "nbconvert_exporter": "python",
   "pygments_lexer": "ipython2",
   "version": "2.7.6"
  }
 },
 "nbformat": 4,
 "nbformat_minor": 5
}
