{
 "cells": [
  {
   "cell_type": "markdown",
   "source": [
    "# 연결 리스트(2)\n",
    "\n",
    "4. 원소 삽입\n",
    "5. 원소 삭제\n",
    "6. 두 리스트 합치기\n",
    "\n",
    "\n",
    "## 4. 원소 삽입"
   ],
   "metadata": {
    "collapsed": false
   },
   "id": "b85f7a4e4c30a765"
  },
  {
   "cell_type": "code",
   "execution_count": 27,
   "id": "initial_id",
   "metadata": {
    "collapsed": true,
    "ExecuteTime": {
     "end_time": "2023-12-15T15:57:01.262150Z",
     "start_time": "2023-12-15T15:57:01.260199Z"
    }
   },
   "outputs": [],
   "source": [
    "class Node:\n",
    "    def __init__(self, item):\n",
    "        self.data = item\n",
    "        self.next = None\n",
    "\n",
    "\n",
    "class LinkedList:\n",
    "    def __init__(self):\n",
    "        self.nodeCount = 0\n",
    "        self.head = None\n",
    "        self.tail = None\n",
    "        \n",
    "    def __repr__(self):\n",
    "        if self.nodeCount == 0:\n",
    "            return 'LinkedList: empty'\n",
    "        \n",
    "        s = ''\n",
    "        curr = self.head\n",
    "        while curr is not None:\n",
    "            s += repr(curr.data)\n",
    "            if curr.next is not None:\n",
    "                s += ' -> '\n",
    "            curr = curr.next\n",
    "            \n",
    "        return s\n",
    "        \n",
    "        \n",
    "    def getAt(self, pos):\n",
    "        if (pos <= 0) or (pos > self.nodeCount):\n",
    "            return None\n",
    "        \n",
    "        i = 1\n",
    "        curr = self.head\n",
    "        \n",
    "        while i < pos:\n",
    "            curr = curr.next\n",
    "            i += 1\n",
    "        \n",
    "        return curr\n",
    "    \n",
    "    \n",
    "    def traverse(self):\n",
    "        i = 1\n",
    "        curr = self.head\n",
    "        \n",
    "        footprint = []\n",
    "        while curr:\n",
    "            footprint.append(curr.data)\n",
    "            curr = curr.next\n",
    "            i += 1\n",
    "        \n",
    "        return footprint\n",
    "    \n",
    "    \n",
    "    def insertAt(self, pos, newNode):\n",
    "        if (pos < 1) or (pos > self.nodeCount + 1):\n",
    "            return False\n",
    "        \n",
    "        if pos == 1:\n",
    "            newNode.next = self.head\n",
    "            self.head = newNode\n",
    "        \n",
    "        else:\n",
    "            if pos == self.nodeCount + 1:\n",
    "                previous = self.tail\n",
    "            else:\n",
    "                previous = self.getAt(pos-1)\n",
    "                \n",
    "            newNode.next = previous.next\n",
    "            previous.next = newNode\n",
    "        \n",
    "        if pos == self.nodeCount + 1:\n",
    "            self.tail = newNode\n",
    "            \n",
    "        self.nodeCount += 1\n",
    "        \n",
    "        return True"
   ]
  },
  {
   "cell_type": "code",
   "execution_count": 31,
   "outputs": [
    {
     "data": {
      "text/plain": "LinkedList: empty"
     },
     "execution_count": 31,
     "metadata": {},
     "output_type": "execute_result"
    }
   ],
   "source": [
    "a = Node(67)\n",
    "b = Node(34)\n",
    "c = Node(28)\n",
    "L = LinkedList()\n",
    "L"
   ],
   "metadata": {
    "collapsed": false,
    "ExecuteTime": {
     "end_time": "2023-12-15T15:57:26.814006Z",
     "start_time": "2023-12-15T15:57:26.808290Z"
    }
   },
   "id": "c5ad8dff6b91d353"
  },
  {
   "cell_type": "code",
   "execution_count": 32,
   "outputs": [
    {
     "data": {
      "text/plain": "67"
     },
     "execution_count": 32,
     "metadata": {},
     "output_type": "execute_result"
    }
   ],
   "source": [
    "L.insertAt(1, a)\n",
    "L"
   ],
   "metadata": {
    "collapsed": false,
    "ExecuteTime": {
     "end_time": "2023-12-15T15:57:27.212735Z",
     "start_time": "2023-12-15T15:57:27.210127Z"
    }
   },
   "id": "ddef5c6d1e8f44ba"
  },
  {
   "cell_type": "code",
   "execution_count": 33,
   "outputs": [
    {
     "data": {
      "text/plain": "67 -> 34"
     },
     "execution_count": 33,
     "metadata": {},
     "output_type": "execute_result"
    }
   ],
   "source": [
    "L.insertAt(2, b)\n",
    "L"
   ],
   "metadata": {
    "collapsed": false,
    "ExecuteTime": {
     "end_time": "2023-12-15T15:57:27.602460Z",
     "start_time": "2023-12-15T15:57:27.597048Z"
    }
   },
   "id": "bc8c889381f58bca"
  },
  {
   "cell_type": "code",
   "execution_count": 34,
   "outputs": [
    {
     "data": {
      "text/plain": "67 -> 34 -> 28"
     },
     "execution_count": 34,
     "metadata": {},
     "output_type": "execute_result"
    }
   ],
   "source": [
    "L.insertAt(3, c)\n",
    "L"
   ],
   "metadata": {
    "collapsed": false,
    "ExecuteTime": {
     "end_time": "2023-12-15T15:57:28.006318Z",
     "start_time": "2023-12-15T15:57:28.002762Z"
    }
   },
   "id": "3c96cfd9fc1c1cd0"
  },
  {
   "cell_type": "code",
   "execution_count": 35,
   "outputs": [
    {
     "data": {
      "text/plain": "67 -> 100 -> 34 -> 28"
     },
     "execution_count": 35,
     "metadata": {},
     "output_type": "execute_result"
    }
   ],
   "source": [
    "ab = Node(100)\n",
    "L.insertAt(2, ab)\n",
    "L"
   ],
   "metadata": {
    "collapsed": false,
    "ExecuteTime": {
     "end_time": "2023-12-15T15:58:08.604915Z",
     "start_time": "2023-12-15T15:58:08.601289Z"
    }
   },
   "id": "134321a28284d37a"
  },
  {
   "cell_type": "code",
   "execution_count": 36,
   "outputs": [
    {
     "data": {
      "text/plain": "11 -> 67 -> 100 -> 34 -> 28"
     },
     "execution_count": 36,
     "metadata": {},
     "output_type": "execute_result"
    }
   ],
   "source": [
    "aa = Node(11)\n",
    "L.insertAt(1, aa)\n",
    "L"
   ],
   "metadata": {
    "collapsed": false,
    "ExecuteTime": {
     "end_time": "2023-12-15T15:58:28.708550Z",
     "start_time": "2023-12-15T15:58:28.695566Z"
    }
   },
   "id": "c1dbd5525290d6a4"
  },
  {
   "cell_type": "markdown",
   "source": [
    "### 위에서 구현한 원소 삽입의 복잡도\n",
    "\n",
    "1. 맨 앞에 삽입하는 경우: $O(1)$\n",
    "2. 중간에 삽입하는 경우: $O(n)$\n",
    "3. 맨 끝에 삽입하는 경우: $O(1)$"
   ],
   "metadata": {
    "collapsed": false
   },
   "id": "66097c724c3560f1"
  },
  {
   "cell_type": "markdown",
   "source": [
    "## 원소의 삭제"
   ],
   "metadata": {
    "collapsed": false
   },
   "id": "53a4fb8f42603f70"
  },
  {
   "cell_type": "code",
   "execution_count": 37,
   "outputs": [],
   "source": [
    "class Node:\n",
    "    def __init__(self, item):\n",
    "        self.data = item\n",
    "        self.next = None\n",
    "\n",
    "\n",
    "class LinkedList:\n",
    "    def __init__(self):\n",
    "        self.nodeCount = 0\n",
    "        self.head = None\n",
    "        self.tail = None\n",
    "        \n",
    "    def __repr__(self):\n",
    "        if self.nodeCount == 0:\n",
    "            return 'LinkedList: empty'\n",
    "        \n",
    "        s = ''\n",
    "        curr = self.head\n",
    "        while curr is not None:\n",
    "            s += repr(curr.data)\n",
    "            if curr.next is not None:\n",
    "                s += ' -> '\n",
    "            curr = curr.next\n",
    "            \n",
    "        return s\n",
    "        \n",
    "        \n",
    "    def getAt(self, pos):\n",
    "        if (pos <= 0) or (pos > self.nodeCount):\n",
    "            return None\n",
    "        \n",
    "        i = 1\n",
    "        curr = self.head\n",
    "        \n",
    "        while i < pos:\n",
    "            curr = curr.next\n",
    "            i += 1\n",
    "        \n",
    "        return curr\n",
    "    \n",
    "    \n",
    "    def traverse(self):\n",
    "        i = 1\n",
    "        curr = self.head\n",
    "        \n",
    "        footprint = []\n",
    "        while curr:\n",
    "            footprint.append(curr.data)\n",
    "            curr = curr.next\n",
    "            i += 1\n",
    "        \n",
    "        return footprint\n",
    "    \n",
    "    \n",
    "    def insertAt(self, pos, newNode):\n",
    "        if (pos < 1) or (pos > self.nodeCount + 1):\n",
    "            return False\n",
    "        \n",
    "        if pos == 1:\n",
    "            newNode.next = self.head\n",
    "            self.head = newNode\n",
    "        \n",
    "        else:\n",
    "            if pos == self.nodeCount + 1:\n",
    "                previous = self.tail\n",
    "            else:\n",
    "                previous = self.getAt(pos-1)\n",
    "                \n",
    "            newNode.next = previous.next\n",
    "            previous.next = newNode\n",
    "        \n",
    "        if pos == self.nodeCount + 1:\n",
    "            self.tail = newNode\n",
    "            \n",
    "        self.nodeCount += 1\n",
    "        \n",
    "        return True\n",
    "    \n",
    "    def popAt(self, pos):\n",
    "        if (pos < 1) or (pos > self.nodeCount):\n",
    "            return False\n",
    "        \n",
    "        if pos == 1:\n",
    "            popped = self.head\n",
    "            self.head = self.getAt(2)\n",
    "            \n",
    "        else:\n",
    "            popped = self.getAt(pos)\n",
    "            previous = self.getAt(pos-1)\n",
    "            previous.next = popped.next\n",
    "        \n",
    "        if pos == self.nodeCount:\n",
    "            if self.nodeCount == 1:\n",
    "                self.head = None \n",
    "                self.tail =  None\n",
    "            else:\n",
    "                self.tail = self.getAt(pos-1)\n",
    "                self.tail.next =  None\n",
    "                \n",
    "        self.nodeCount -= 1\n",
    "        \n",
    "        return popped.data"
   ],
   "metadata": {
    "collapsed": false,
    "ExecuteTime": {
     "end_time": "2023-12-15T16:12:25.456085Z",
     "start_time": "2023-12-15T16:12:25.442626Z"
    }
   },
   "id": "d6b34dfb499c3894"
  },
  {
   "cell_type": "code",
   "execution_count": 61,
   "outputs": [
    {
     "data": {
      "text/plain": "67 -> 34 -> 28"
     },
     "execution_count": 61,
     "metadata": {},
     "output_type": "execute_result"
    }
   ],
   "source": [
    "a = Node(67)\n",
    "b = Node(34)\n",
    "c = Node(28)\n",
    "L = LinkedList()\n",
    "\n",
    "L.insertAt(1, a)\n",
    "L.insertAt(2, b)\n",
    "L.insertAt(3, c)\n",
    "\n",
    "L"
   ],
   "metadata": {
    "collapsed": false,
    "ExecuteTime": {
     "end_time": "2023-12-15T16:23:46.998789Z",
     "start_time": "2023-12-15T16:23:46.989727Z"
    }
   },
   "id": "2664fe8f4b14d1d1"
  },
  {
   "cell_type": "code",
   "execution_count": 62,
   "outputs": [
    {
     "data": {
      "text/plain": "34 -> 28"
     },
     "execution_count": 62,
     "metadata": {},
     "output_type": "execute_result"
    }
   ],
   "source": [
    "L.popAt(1)\n",
    "L"
   ],
   "metadata": {
    "collapsed": false,
    "ExecuteTime": {
     "end_time": "2023-12-15T16:23:48.277247Z",
     "start_time": "2023-12-15T16:23:48.267360Z"
    }
   },
   "id": "722307e19a001050"
  },
  {
   "cell_type": "code",
   "execution_count": 63,
   "outputs": [
    {
     "name": "stdout",
     "output_type": "stream",
     "text": [
      "28\n"
     ]
    },
    {
     "data": {
      "text/plain": "34"
     },
     "execution_count": 63,
     "metadata": {},
     "output_type": "execute_result"
    }
   ],
   "source": [
    "popped2 = L.popAt(2)\n",
    "print(popped2.data)\n",
    "L"
   ],
   "metadata": {
    "collapsed": false,
    "ExecuteTime": {
     "end_time": "2023-12-15T16:23:48.756308Z",
     "start_time": "2023-12-15T16:23:48.749738Z"
    }
   },
   "id": "cac2a2601978ca4e"
  },
  {
   "cell_type": "code",
   "execution_count": 64,
   "outputs": [
    {
     "data": {
      "text/plain": "LinkedList: empty"
     },
     "execution_count": 64,
     "metadata": {},
     "output_type": "execute_result"
    }
   ],
   "source": [
    "L.popAt(1)\n",
    "L"
   ],
   "metadata": {
    "collapsed": false,
    "ExecuteTime": {
     "end_time": "2023-12-15T16:23:50.911381Z",
     "start_time": "2023-12-15T16:23:50.901624Z"
    }
   },
   "id": "b01e8e4dcdd3dd23"
  },
  {
   "cell_type": "markdown",
   "source": [
    "### 위에서 구현한 원소 삭제의 복잡도\n",
    "\n",
    "1. 맨 앞에서 삭제하는 경우: $O(1)$\n",
    "2. 중간에서 삭제하는 경우: $O(n)$\n",
    "3. 맨 끝에서 삭제하는 경우: $O(n)$"
   ],
   "metadata": {
    "collapsed": false
   },
   "id": "d17679102e7e3041"
  },
  {
   "cell_type": "markdown",
   "source": [
    "## 두 리스트의 연결"
   ],
   "metadata": {
    "collapsed": false
   },
   "id": "173984e0c9a911d"
  },
  {
   "cell_type": "code",
   "execution_count": 56,
   "outputs": [],
   "source": [
    "class Node:\n",
    "    def __init__(self, item):\n",
    "        self.data = item\n",
    "        self.next = None\n",
    "\n",
    "\n",
    "class LinkedList:\n",
    "    def __init__(self):\n",
    "        self.nodeCount = 0\n",
    "        self.head = None\n",
    "        self.tail = None\n",
    "        \n",
    "    def __repr__(self):\n",
    "        if self.nodeCount == 0:\n",
    "            return 'LinkedList: empty'\n",
    "        \n",
    "        s = ''\n",
    "        curr = self.head\n",
    "        while curr is not None:\n",
    "            s += repr(curr.data)\n",
    "            if curr.next is not None:\n",
    "                s += ' -> '\n",
    "            curr = curr.next\n",
    "            \n",
    "        return s\n",
    "        \n",
    "        \n",
    "    def getAt(self, pos):\n",
    "        if (pos <= 0) or (pos > self.nodeCount):\n",
    "            return None\n",
    "        \n",
    "        i = 1\n",
    "        curr = self.head\n",
    "        \n",
    "        while i < pos:\n",
    "            curr = curr.next\n",
    "            i += 1\n",
    "        \n",
    "        return curr\n",
    "    \n",
    "    \n",
    "    def traverse(self):\n",
    "        i = 1\n",
    "        curr = self.head\n",
    "        \n",
    "        footprint = []\n",
    "        while curr:\n",
    "            footprint.append(curr.data)\n",
    "            curr = curr.next\n",
    "            i += 1\n",
    "        \n",
    "        return footprint\n",
    "    \n",
    "    \n",
    "    def insertAt(self, pos, newNode):\n",
    "        if (pos < 1) or (pos > self.nodeCount + 1):\n",
    "            return False\n",
    "        \n",
    "        if pos == 1:\n",
    "            newNode.next = self.head\n",
    "            self.head = newNode\n",
    "        \n",
    "        else:\n",
    "            if pos == self.nodeCount + 1:\n",
    "                previous = self.tail\n",
    "            else:\n",
    "                previous = self.getAt(pos-1)\n",
    "                \n",
    "            newNode.next = previous.next\n",
    "            previous.next = newNode\n",
    "        \n",
    "        if pos == self.nodeCount + 1:\n",
    "            self.tail = newNode\n",
    "            \n",
    "        self.nodeCount += 1\n",
    "        \n",
    "        return True\n",
    "    \n",
    "    \n",
    "    def popAt(self, pos):\n",
    "        if (pos < 1) or (pos > self.nodeCount + 1):\n",
    "            return False\n",
    "        \n",
    "        if pos == 1:\n",
    "            popped = self.head\n",
    "            self.head = self.getAt(2)\n",
    "            \n",
    "        else:\n",
    "            popped = self.getAt(pos)\n",
    "            previous = self.getAt(pos-1)\n",
    "            previous.next = popped.next\n",
    "        \n",
    "        if pos == self.nodeCount:\n",
    "            if self.nodeCount == 1:\n",
    "                self.head = None \n",
    "                self.tail =  None\n",
    "            else:\n",
    "                self.tail = self.getAt(pos-1)\n",
    "                \n",
    "        self.nodeCount -= 1\n",
    "        \n",
    "        return popped\n",
    "    \n",
    "    \n",
    "    def concat(self, L):\n",
    "        self.tail.next = L.head\n",
    "        if L.tail: # L이 빈 리스트가 아닐 때\n",
    "            self.tail = L.tail\n",
    "        self.nodeCount += L.nodeCount"
   ],
   "metadata": {
    "collapsed": false,
    "ExecuteTime": {
     "end_time": "2023-12-15T16:18:11.058940Z",
     "start_time": "2023-12-15T16:18:11.050684Z"
    }
   },
   "id": "9653cfeb9f613517"
  },
  {
   "cell_type": "code",
   "execution_count": null,
   "outputs": [],
   "source": [],
   "metadata": {
    "collapsed": false
   },
   "id": "afa93dbddfe87e3b"
  }
 ],
 "metadata": {
  "kernelspec": {
   "display_name": "Python 3",
   "language": "python",
   "name": "python3"
  },
  "language_info": {
   "codemirror_mode": {
    "name": "ipython",
    "version": 2
   },
   "file_extension": ".py",
   "mimetype": "text/x-python",
   "name": "python",
   "nbconvert_exporter": "python",
   "pygments_lexer": "ipython2",
   "version": "2.7.6"
  }
 },
 "nbformat": 4,
 "nbformat_minor": 5
}
