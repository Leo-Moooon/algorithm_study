{
 "cells": [
  {
   "cell_type": "markdown",
   "source": [
    "# 환형 큐\n",
    "\n",
    "## 큐의 활용\n",
    "- 자료를 생성하는 작업과 그 자료를 이용하는 작업이 비동기적으로(asynchronously) 일어나는 경우\n",
    "- 생성작업 혹은 이용작업이 여러 곳에서 일어나는 경우\n",
    "- 자료를 처리하여 새로운 자료를 생성하고, 나중에 그 자료를 또 처리해야 하는 작업의 경우\n",
    "\n",
    "## 환형 큐\n",
    "정해진 개수의 저장공간을 빙 돌려가며 이용\n",
    "\n",
    "### 연산 정의\n",
    "1. size() - 현재 큐에 들어있는 데이터 원소의 수\n",
    "2. isEmpty() - 현재 큐가 비어있는지 판단\n",
    "3. isFull() - 큐에 데이터 원소가 꽉 차있는지 판단\n",
    "4. enqueue(x) - 데이터 원소 x를 큐에 추가\n",
    "5. dequeue() - 큐의 맨 앞에 저장된 데이터 원소를 제거 및 반환\n",
    "6. peek() - 큐의 맨 앞에 저장된 데이터 원소 반환(제거하지 않음) "
   ],
   "metadata": {
    "collapsed": false
   },
   "id": "3321304dff4f7fb5"
  },
  {
   "cell_type": "markdown",
   "source": [
    "## (1) 리스트를 이용한 환형 큐 구현"
   ],
   "metadata": {
    "collapsed": false
   },
   "id": "7f61108ac0256810"
  },
  {
   "cell_type": "code",
   "execution_count": 64,
   "outputs": [],
   "source": [
    "class ArrayCircularQueue:\n",
    "    def __init__(self, volume :int):\n",
    "        self.maxCount = volume\n",
    "        self.count = 0\n",
    "        self.data = [None] * volume\n",
    "        self.front = -1\n",
    "        self.rear = -1\n",
    "    \n",
    "    def size(self):\n",
    "        return self.count\n",
    "    \n",
    "    def isEmpty(self):\n",
    "        return len(self.data) == 0\n",
    "    \n",
    "    def isFull(self):\n",
    "        return self.count == self.maxCount\n",
    "    \n",
    "    def enqueue(self, item):\n",
    "        if self.isFull():\n",
    "            raise IndexError('Queue is full')\n",
    "        \n",
    "        self.rear = (self.rear + 1) % self.maxCount\n",
    "        print(f\"[1] {self.rear}\")\n",
    "        self.data[self.rear] = item\n",
    "        self.count += 1\n",
    "    \n",
    "    def dequeue(self):\n",
    "        if self.isEmpty():\n",
    "            raise IndexError('Queue is empty')\n",
    "        \n",
    "        self.front = (self.front + 1) % self.maxCount\n",
    "        deq = self.data[self.front]\n",
    "        self.count -= 1\n",
    "        \n",
    "        return deq\n",
    "    \n",
    "    def peek(self):\n",
    "        if self.isEmpty():\n",
    "            raise IndexError('Queue is empty')\n",
    "        \n",
    "        return self.data[(self.front+1) % self.maxCount]"
   ],
   "metadata": {
    "collapsed": false,
    "ExecuteTime": {
     "end_time": "2023-12-17T08:55:30.280369Z",
     "start_time": "2023-12-17T08:55:30.272848Z"
    }
   },
   "id": "e70c74d82db8c1b"
  },
  {
   "cell_type": "code",
   "execution_count": 65,
   "outputs": [
    {
     "name": "stdout",
     "output_type": "stream",
     "text": [
      "[1] 0\n",
      "data: ['a', None, None, None, None, None]\n",
      "size: 1, front: -1, rear: 0\n",
      "\n",
      "data: ['a', None, None, None, None, None]\n",
      "size: 0, front: 0, rear: 0\n",
      "\n",
      "[1] 1\n",
      "[1] 2\n",
      "data: ['a', 'a', 'b', None, None, None]\n",
      "size: 2, front: 0, rear: 2\n",
      "\n",
      "data: ['a', 'a', 'b', None, None, None]\n",
      "size: 0, front: 2, rear: 2\n",
      "\n",
      "[1] 3\n"
     ]
    }
   ],
   "source": [
    "CQ = ArrayCircularQueue(6)\n",
    "\n",
    "CQ.enqueue('a')\n",
    "print(f\"data: {CQ.data}\\n\"\n",
    "      f\"size: {CQ.size()}, front: {CQ.front}, rear: {CQ.rear}\\n\")\n",
    "\n",
    "CQ.dequeue()\n",
    "print(f\"data: {CQ.data}\\n\"\n",
    "      f\"size: {CQ.size()}, front: {CQ.front}, rear: {CQ.rear}\\n\")\n",
    "\n",
    "CQ.enqueue('a')\n",
    "CQ.enqueue('b')\n",
    "print(f\"data: {CQ.data}\\n\"\n",
    "      f\"size: {CQ.size()}, front: {CQ.front}, rear: {CQ.rear}\\n\")\n",
    "\n",
    "CQ.dequeue()\n",
    "CQ.dequeue()\n",
    "\n",
    "print(f\"data: {CQ.data}\\n\"\n",
    "      f\"size: {CQ.size()}, front: {CQ.front}, rear: {CQ.rear}\\n\")\n",
    "\n",
    "CQ.enqueue('aaa')"
   ],
   "metadata": {
    "collapsed": false,
    "ExecuteTime": {
     "end_time": "2023-12-17T08:55:31.007839Z",
     "start_time": "2023-12-17T08:55:31.003829Z"
    }
   },
   "id": "5422e20b9056e432"
  },
  {
   "cell_type": "code",
   "execution_count": 59,
   "outputs": [],
   "source": [
    "CQ.peek()"
   ],
   "metadata": {
    "collapsed": false,
    "ExecuteTime": {
     "end_time": "2023-12-17T08:52:27.579286Z",
     "start_time": "2023-12-17T08:52:27.575598Z"
    }
   },
   "id": "b3d51c01d34dc6d1"
  }
 ],
 "metadata": {
  "kernelspec": {
   "display_name": "Python 3",
   "language": "python",
   "name": "python3"
  },
  "language_info": {
   "codemirror_mode": {
    "name": "ipython",
    "version": 2
   },
   "file_extension": ".py",
   "mimetype": "text/x-python",
   "name": "python",
   "nbconvert_exporter": "python",
   "pygments_lexer": "ipython2",
   "version": "2.7.6"
  }
 },
 "nbformat": 4,
 "nbformat_minor": 5
}
