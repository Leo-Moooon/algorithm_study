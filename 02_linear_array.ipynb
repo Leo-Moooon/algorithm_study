{
 "cells": [
  {
   "cell_type": "markdown",
   "source": [
    "## 정렬된 리스트에 원소 삽입"
   ],
   "metadata": {
    "collapsed": false
   },
   "id": "6ea8deef1c0ead7a"
  },
  {
   "cell_type": "code",
   "execution_count": 3,
   "id": "initial_id",
   "metadata": {
    "collapsed": true,
    "ExecuteTime": {
     "end_time": "2023-12-14T02:40:01.151117Z",
     "start_time": "2023-12-14T02:40:01.141407Z"
    }
   },
   "outputs": [
    {
     "data": {
      "text/plain": "[20, 37, 58, 65, 72, 91]"
     },
     "execution_count": 3,
     "metadata": {},
     "output_type": "execute_result"
    }
   ],
   "source": [
    "def solution(L, x):\n",
    "    FLAG = False\n",
    "    for idx, el in enumerate(L):\n",
    "        if x < el: \n",
    "            FLAG = True\n",
    "            break\n",
    "    \n",
    "    if not FLAG: \n",
    "        idx += 1\n",
    "    \n",
    "    L.insert(idx, x)\n",
    "    \n",
    "    return L\n",
    "\n",
    "\n",
    "solution([20, 37, 58, 72, 91], 65) # [20, 37, 58, 65, 72, 91]"
   ]
  },
  {
   "cell_type": "markdown",
   "source": [
    "## 리스트에서 원소 찾아내기"
   ],
   "metadata": {
    "collapsed": false
   },
   "id": "e94fab5a440811a4"
  },
  {
   "cell_type": "code",
   "execution_count": 4,
   "outputs": [
    {
     "data": {
      "text/plain": "[1, 3]"
     },
     "execution_count": 4,
     "metadata": {},
     "output_type": "execute_result"
    }
   ],
   "source": [
    "def solution(L, x):\n",
    "    answer = [idx for idx, el in enumerate(L) if el == x]\n",
    "    if not answer:\n",
    "        answer = [-1]\n",
    "    return answer\n",
    "\n",
    "\n",
    "solution([64, 72, 83, 72, 54], 72) # [1, 3]"
   ],
   "metadata": {
    "collapsed": false,
    "ExecuteTime": {
     "end_time": "2023-12-14T02:41:06.505432Z",
     "start_time": "2023-12-14T02:41:06.501088Z"
    }
   },
   "id": "f199b98c7fdf8a2"
  }
 ],
 "metadata": {
  "kernelspec": {
   "display_name": "Python 3",
   "language": "python",
   "name": "python3"
  },
  "language_info": {
   "codemirror_mode": {
    "name": "ipython",
    "version": 2
   },
   "file_extension": ".py",
   "mimetype": "text/x-python",
   "name": "python",
   "nbconvert_exporter": "python",
   "pygments_lexer": "ipython2",
   "version": "2.7.6"
  }
 },
 "nbformat": 4,
 "nbformat_minor": 5
}
