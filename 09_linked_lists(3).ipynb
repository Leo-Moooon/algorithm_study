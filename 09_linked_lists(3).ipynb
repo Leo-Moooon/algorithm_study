{
 "cells": [
  {
   "cell_type": "markdown",
   "source": [
    "# 연결리스트 (3)\n",
    "\n",
    "연결리스트가 힘을 발휘할 때\n",
    "- 유연한 삽입, 삭제\n",
    "\n",
    "---\n",
    "\n",
    "하지만 이전 파일의 경우, 삽입 삭제 시 첫 노드부터 순회해서 찾아야 하는 불편함이 있었다.\n",
    "- 0번째에 DummyNode를 추가하여 재구성\n",
    "- popAfter, insertAfter 추가"
   ],
   "metadata": {
    "collapsed": false
   },
   "id": "10914a9494e6130e"
  },
  {
   "cell_type": "code",
   "execution_count": 17,
   "id": "initial_id",
   "metadata": {
    "collapsed": true,
    "ExecuteTime": {
     "end_time": "2023-12-16T05:20:48.378650Z",
     "start_time": "2023-12-16T05:20:48.376530Z"
    }
   },
   "outputs": [],
   "source": [
    "class Node:\n",
    "    def __init__(self, item):\n",
    "        self.data = item\n",
    "        self.next = None\n",
    "\n",
    "# DummyNode가 head에 추가된 버\n",
    "class LinkedList:\n",
    "    def __init__(self):\n",
    "        self.nodeCount = 0\n",
    "        self.head = Node(None) # Dummy Node (idx 0)\n",
    "        self.tail = None\n",
    "        self.head.next = self.tail\n",
    "    \n",
    "    def __repr__(self):\n",
    "        if self.nodeCount == 0:\n",
    "            return 'LinkedList: empty'\n",
    "        \n",
    "        s = ''\n",
    "        curr = self.head.next\n",
    "        while curr is not None:\n",
    "            s += repr(curr.data)\n",
    "            if curr.next is not None:\n",
    "                s += ' -> '\n",
    "            curr = curr.next\n",
    "            \n",
    "        return s\n",
    "    \n",
    "    def __len__(self):\n",
    "        return self.nodeCount\n",
    "    \n",
    "    \n",
    "    def traverse(self):\n",
    "        \"\"\"순회\"\"\"\n",
    "        result = []\n",
    "        curr = self.head\n",
    "        while curr.next:\n",
    "            curr = curr.next\n",
    "            result.append(curr)\n",
    "            \n",
    "        return result\n",
    "    \n",
    "    \n",
    "    def getAt(self, pos):\n",
    "        \"\"\"k번째 노드 반환\"\"\"\n",
    "        if (pos < 0) or (pos > self.nodeCount):\n",
    "            raise IndexError\n",
    "        \n",
    "        i = 0\n",
    "        curr = self.head\n",
    "        while i < pos:\n",
    "            curr = curr.next\n",
    "            i += 1\n",
    "        \n",
    "        return curr\n",
    "    \n",
    "    def insertAfter(self, prev, newNode):\n",
    "        \"\"\"원소 삽입\n",
    "            desc: prev가 가리키는 node의 다음에 newNode를 삽입하고,\n",
    "            성공/실패 여부에 따라 True/False 반환\n",
    "        \"\"\"\n",
    "        newNode.next = prev.next\n",
    "        \n",
    "        if prev.next is None:\n",
    "            self.tail = newNode\n",
    "            \n",
    "        prev.next = newNode\n",
    "        self.nodeCount += 1\n",
    "        return True\n",
    "    \n",
    "    def insertAt(self, pos, newNode):\n",
    "        if (pos < 1) or (pos > self.nodeCount + 1):\n",
    "            raise IndexError\n",
    "        \n",
    "        if (pos != 1) and (pos == self.nodeCount + 1):\n",
    "            prev = self.tail\n",
    "        else:\n",
    "            prev = self.getAt(pos-1)\n",
    "        \n",
    "        return self.insertAfter(prev, newNode)\n",
    "    \n",
    "    \n",
    "    def popAfter(self, prev):\n",
    "        if prev.next is None:\n",
    "            raise IndexError\n",
    "        \n",
    "        curr = prev.next\n",
    "        prev.next = curr.next\n",
    "        \n",
    "        if curr.next is None:\n",
    "            self.tail = prev\n",
    "        \n",
    "        self.nodeCount -= 1\n",
    "        return curr.data\n",
    "    \n",
    "    def popAt(self, pos):\n",
    "        if (pos < 1) or (pos > self.nodeCount):\n",
    "            raise IndexError\n",
    "            \n",
    "        prev = self.getAt(pos-1)\n",
    "        \n",
    "        return self.popAfter(prev)\n",
    "    \n",
    "    \n",
    "    def concat(self, L):\n",
    "        self.tail.next = L.head.next\n",
    "        if L.tail:\n",
    "            self.tail = L.tail\n",
    "            \n",
    "        self.nodeCount += L.nodeCount"
   ]
  },
  {
   "cell_type": "code",
   "execution_count": 18,
   "outputs": [
    {
     "data": {
      "text/plain": "LinkedList: empty"
     },
     "execution_count": 18,
     "metadata": {},
     "output_type": "execute_result"
    }
   ],
   "source": [
    "L = LinkedList()\n",
    "L"
   ],
   "metadata": {
    "collapsed": false,
    "ExecuteTime": {
     "end_time": "2023-12-16T05:20:48.842423Z",
     "start_time": "2023-12-16T05:20:48.839034Z"
    }
   },
   "id": "53cfc36a03fb780e"
  },
  {
   "cell_type": "code",
   "execution_count": 19,
   "outputs": [
    {
     "data": {
      "text/plain": "1 -> 2 -> 3"
     },
     "execution_count": 19,
     "metadata": {},
     "output_type": "execute_result"
    }
   ],
   "source": [
    "a = Node(1)\n",
    "b = Node(2)\n",
    "c = Node(3)\n",
    "\n",
    "L.insertAt(1, a)\n",
    "L.insertAt(2, b)\n",
    "L.insertAt(3, c)\n",
    "\n",
    "L"
   ],
   "metadata": {
    "collapsed": false,
    "ExecuteTime": {
     "end_time": "2023-12-16T05:20:49.692313Z",
     "start_time": "2023-12-16T05:20:49.688258Z"
    }
   },
   "id": "cd731914c5f0522a"
  }
 ],
 "metadata": {
  "kernelspec": {
   "display_name": "Python 3",
   "language": "python",
   "name": "python3"
  },
  "language_info": {
   "codemirror_mode": {
    "name": "ipython",
    "version": 2
   },
   "file_extension": ".py",
   "mimetype": "text/x-python",
   "name": "python",
   "nbconvert_exporter": "python",
   "pygments_lexer": "ipython2",
   "version": "2.7.6"
  }
 },
 "nbformat": 4,
 "nbformat_minor": 5
}
