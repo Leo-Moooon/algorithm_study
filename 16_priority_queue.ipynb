{
 "cells": [
  {
   "cell_type": "markdown",
   "source": [
    "# 우선순위 큐\n",
    "- 큐가 FIFO 방식을 따르지 않고, 원소들의 우선순위에 따라 큐에서 빠져나오는 방식\n",
    "- 예시) 작은 수를 먼저 뺀다고 가정\n",
    "    - Enqueue: 6 - 7 - 3 - 2\n",
    "    - Dequeue: 2 - 3 - 6 - 7\n",
    "- 활용) 운영체제의 CPU 쿨러 등\n",
    "\n",
    "---\n",
    "\n",
    "## 우선순위 큐의 구현\n",
    "\n",
    "### 정렬 여부\n",
    "1) Enqueue할 때 우선순위 순서를 유지하도록\n",
    "2) Dequeue할 때 우선순위 높은 것을 선택\n",
    "\n",
    "(1)번 방식이 훨씬 효율적이다.\n",
    "- Enqueue할 때 꼭 모두 봐야만 정렬할 수 있는 것은 아니다\n",
    "- (2)번 방식은 dequeue 때마다 모든 데이터를 봐야만 하는 문제가 있다.\n",
    "\n",
    "### 사용 재료\n",
    "1) 선형 배열\n",
    "2) 연결 리스트\n",
    "\n",
    "- 시간 측면에서 연결 리스트 사용이 효율적이다.\n",
    "    - 우선순위에 따라 정렬하기 때문에 중간에 원소삽입이 잦을 것이기 때문.\n",
    "- 메모리 측면에서는 선형 배열이 유리하다."
   ],
   "metadata": {
    "collapsed": false
   },
   "id": "25ea57e666060211"
  },
  {
   "cell_type": "markdown",
   "source": [
    "## 연결 리스트를 이용한 우선순위 큐 구현"
   ],
   "metadata": {
    "collapsed": false
   },
   "id": "282685f729f219b1"
  },
  {
   "cell_type": "code",
   "execution_count": 1,
   "id": "initial_id",
   "metadata": {
    "collapsed": true,
    "ExecuteTime": {
     "end_time": "2023-12-17T14:17:40.825794Z",
     "start_time": "2023-12-17T14:17:40.822933Z"
    }
   },
   "outputs": [],
   "source": [
    "from modules import Node, DoublyLinkedList"
   ]
  },
  {
   "cell_type": "code",
   "execution_count": 3,
   "outputs": [],
   "source": [
    "class PriorityQueue:\n",
    "    def __init__(self):\n",
    "        self.queue = DoublyLinkedList()\n",
    "        \n",
    "    def size(self):\n",
    "        return len(self.queue)\n",
    "    \n",
    "    def isEmpty(self):\n",
    "        return self.size() == 0\n",
    "        \n",
    "    def enqueue(self, item):\n",
    "        curr = self.queue.head # 시작 지점\n",
    "        \n",
    "        while (curr.next is not self.queue.tail) and (item < curr.data): # 우선순위를 비교하는 조건, 끝을 만나지 않을 조건\n",
    "            curr = curr.next\n",
    "        \n",
    "        self.queue.insertAfter(curr, Node(item)) # 삽입할 메소드 입력\n",
    "    \n",
    "    def dequeue(self):\n",
    "        return self.queue.popBefore(self.queue.tail)\n",
    "    \n",
    "    def peek(self):\n",
    "        return self.queue.getAt(self.queue.tail.prev).data"
   ],
   "metadata": {
    "collapsed": false,
    "ExecuteTime": {
     "end_time": "2023-12-17T14:44:22.995756Z",
     "start_time": "2023-12-17T14:44:22.990399Z"
    }
   },
   "id": "de174c8b4a1117f0"
  },
  {
   "cell_type": "code",
   "execution_count": null,
   "outputs": [],
   "source": [],
   "metadata": {
    "collapsed": false
   },
   "id": "7d59d610f34c7e3b"
  }
 ],
 "metadata": {
  "kernelspec": {
   "display_name": "Python 3",
   "language": "python",
   "name": "python3"
  },
  "language_info": {
   "codemirror_mode": {
    "name": "ipython",
    "version": 2
   },
   "file_extension": ".py",
   "mimetype": "text/x-python",
   "name": "python",
   "nbconvert_exporter": "python",
   "pygments_lexer": "ipython2",
   "version": "2.7.6"
  }
 },
 "nbformat": 4,
 "nbformat_minor": 5
}
