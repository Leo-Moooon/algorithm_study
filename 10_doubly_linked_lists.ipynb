{
 "cells": [
  {
   "cell_type": "markdown",
   "source": [
    "# 양방향 연결 리스트(이중 연결 리스트)"
   ],
   "metadata": {
    "collapsed": false
   },
   "id": "3c50f53152b94c54"
  },
  {
   "cell_type": "code",
   "execution_count": 9,
   "id": "initial_id",
   "metadata": {
    "collapsed": true,
    "ExecuteTime": {
     "end_time": "2023-12-16T08:05:52.217316Z",
     "start_time": "2023-12-16T08:05:52.215484Z"
    }
   },
   "outputs": [],
   "source": [
    "class Node:\n",
    "    def __init__(self, item):\n",
    "        self.data = item\n",
    "        self.prev= None\n",
    "        self.next = None\n",
    "\n",
    "class DoublyLinkedList:\n",
    "    def __init__(self):\n",
    "        self.nodeCount = 0\n",
    "        self.head = Node(None) # Dummy Node\n",
    "        self.tail = Node(None) # Dummy Node\n",
    "        \n",
    "        self.head.next = self.tail\n",
    "        self.tail.prev = self.head\n",
    "    \n",
    "    \n",
    "    def __repr__(self):\n",
    "        if self.nodeCount == 0:\n",
    "            return \"DoublyLinkedList: empty\"\n",
    "        \n",
    "        s = ''\n",
    "        curr = self.head.next\n",
    "        while curr.next is not None:\n",
    "            s += repr(curr.data)\n",
    "            \n",
    "            if curr.next.next is not None:\n",
    "                s += ' -> '\n",
    "            curr = curr.next\n",
    "        \n",
    "        return s\n",
    "\n",
    "    def __len__(self):\n",
    "        return self.nodeCount\n",
    "    \n",
    "    \n",
    "    def traverse(self, reverse=False):\n",
    "        result = []\n",
    "        if reverse:\n",
    "            curr = self.head\n",
    "            while curr.next.next:\n",
    "                curr = curr.next\n",
    "                result.append(curr.data)\n",
    "                \n",
    "        else:\n",
    "            curr = self.tail\n",
    "            while curr.prev.prev:\n",
    "                curr = curr.prev\n",
    "                result.append(curr.data)\n",
    "        \n",
    "        return result\n",
    "    \n",
    "    \n",
    "    def getAt(self, pos):\n",
    "        if (pos < 0) or (pos > self.nodeCount):\n",
    "            raise IndexError\n",
    "        \n",
    "        if pos < self.nodeCount // 2:\n",
    "            i = 0\n",
    "            curr = self.head\n",
    "            \n",
    "            while i < pos:\n",
    "                curr = curr.next\n",
    "                i += 1\n",
    "        \n",
    "        else:\n",
    "            i = 0\n",
    "            curr = self.tail\n",
    "\n",
    "            while i < self.nodeCount - pos + 1:\n",
    "                curr = curr.prev\n",
    "                i += 1\n",
    "        return curr\n",
    "    \n",
    "    \n",
    "    def insertAfter(self, prev, newNode):\n",
    "        next = prev.next\n",
    "        \n",
    "        newNode.prev = prev\n",
    "        newNode.next = next\n",
    "        \n",
    "        prev.next = newNode\n",
    "        next.prev = newNode\n",
    "        \n",
    "        self.nodeCount += 1\n",
    "        return True\n",
    "    \n",
    "    \n",
    "    def insertAt(self, pos, newNode):\n",
    "        if (pos < 1) or (pos > self.nodeCount + 1):\n",
    "            raise IndexError\n",
    "        \n",
    "        prev = self.getAt(pos-1)\n",
    "        return self.insertAfter(prev, newNode)\n",
    "    \n",
    "    \n",
    "    def insertBefore(self, next, newNode):\n",
    "        prev = next.prev\n",
    "        \n",
    "        newNode.prev = prev\n",
    "        newNode.next = next\n",
    "        \n",
    "        prev.next = newNode\n",
    "        next.prev = newNode\n",
    "        \n",
    "        self.nodeCount += 1\n",
    "        return True\n",
    "    \n",
    "    \n",
    "    def popAfter(self, prev):\n",
    "        curr = prev.next\n",
    "        next = curr.next\n",
    "        \n",
    "        prev.next = curr.next\n",
    "        next.prev = prev\n",
    "        \n",
    "        self.nodeCount -= 1\n",
    "        return curr.data\n",
    "    \n",
    "    \n",
    "    def popBefore(self, next):\n",
    "        curr = next.prev\n",
    "        prev = curr.prev\n",
    "        \n",
    "        prev.next = next\n",
    "        next.prev = prev\n",
    "        \n",
    "        self.nodeCount -= 1\n",
    "        return curr.data\n",
    "    \n",
    "    \n",
    "    def popAt(self, pos):\n",
    "        if (pos < 1) or (pos > self.nodeCount):\n",
    "            raise IndexError\n",
    "        \n",
    "        prev = self.getAt(pos-1)\n",
    "        return self.popAfter(prev)\n",
    "    \n",
    "    \n",
    "    def concat(self, L):\n",
    "        prev = self.tail.prev\n",
    "        next = L.head.next\n",
    "        \n",
    "        prev.next = next\n",
    "        next.prev = prev\n",
    "        \n",
    "        self.tail = L.tail\n",
    "        self.nodeCount += L.nodeCount    \n",
    "            "
   ]
  },
  {
   "cell_type": "code",
   "execution_count": 10,
   "outputs": [
    {
     "data": {
      "text/plain": "True"
     },
     "execution_count": 10,
     "metadata": {},
     "output_type": "execute_result"
    }
   ],
   "source": [
    "L = DoublyLinkedList()\n",
    "\n",
    "L.head.next is L.tail"
   ],
   "metadata": {
    "collapsed": false,
    "ExecuteTime": {
     "end_time": "2023-12-16T08:05:52.525011Z",
     "start_time": "2023-12-16T08:05:52.521113Z"
    }
   },
   "id": "cfa1b1b5618f304a"
  },
  {
   "cell_type": "code",
   "execution_count": 11,
   "outputs": [
    {
     "data": {
      "text/plain": "1 -> 2 -> 3"
     },
     "execution_count": 11,
     "metadata": {},
     "output_type": "execute_result"
    }
   ],
   "source": [
    "L.insertAt(1, Node(1))\n",
    "L.insertAt(2, Node(2))\n",
    "L.insertAt(3, Node(3))\n",
    "\n",
    "L"
   ],
   "metadata": {
    "collapsed": false,
    "ExecuteTime": {
     "end_time": "2023-12-16T08:05:52.886953Z",
     "start_time": "2023-12-16T08:05:52.884379Z"
    }
   },
   "id": "236ecd61abe16d72"
  },
  {
   "cell_type": "code",
   "execution_count": 12,
   "outputs": [
    {
     "data": {
      "text/plain": "1 -> 3"
     },
     "execution_count": 12,
     "metadata": {},
     "output_type": "execute_result"
    }
   ],
   "source": [
    "L.popAt(2)\n",
    "L"
   ],
   "metadata": {
    "collapsed": false,
    "ExecuteTime": {
     "end_time": "2023-12-16T08:06:02.527644Z",
     "start_time": "2023-12-16T08:06:02.509879Z"
    }
   },
   "id": "f11f5f600d64e449"
  },
  {
   "cell_type": "code",
   "execution_count": 14,
   "outputs": [
    {
     "data": {
      "text/plain": "1 -> 2 -> 3"
     },
     "execution_count": 14,
     "metadata": {},
     "output_type": "execute_result"
    }
   ],
   "source": [
    "L2 = DoublyLinkedList()\n",
    "\n",
    "L2.insertAt(1, Node(1))\n",
    "L2.insertAt(2, Node(2))\n",
    "L2.insertAt(3, Node(3))\n",
    "\n",
    "L2"
   ],
   "metadata": {
    "collapsed": false,
    "ExecuteTime": {
     "end_time": "2023-12-16T08:06:22.158830Z",
     "start_time": "2023-12-16T08:06:22.155509Z"
    }
   },
   "id": "663dcf605d2f0726"
  },
  {
   "cell_type": "code",
   "execution_count": 15,
   "outputs": [
    {
     "data": {
      "text/plain": "1 -> 3 -> 1 -> 2 -> 3"
     },
     "execution_count": 15,
     "metadata": {},
     "output_type": "execute_result"
    }
   ],
   "source": [
    "L.concat(L2)\n",
    "L"
   ],
   "metadata": {
    "collapsed": false,
    "ExecuteTime": {
     "end_time": "2023-12-16T08:06:27.162742Z",
     "start_time": "2023-12-16T08:06:27.145444Z"
    }
   },
   "id": "8996f923835f68e9"
  }
 ],
 "metadata": {
  "kernelspec": {
   "display_name": "Python 3",
   "language": "python",
   "name": "python3"
  },
  "language_info": {
   "codemirror_mode": {
    "name": "ipython",
    "version": 2
   },
   "file_extension": ".py",
   "mimetype": "text/x-python",
   "name": "python",
   "nbconvert_exporter": "python",
   "pygments_lexer": "ipython2",
   "version": "2.7.6"
  }
 },
 "nbformat": 4,
 "nbformat_minor": 5
}
