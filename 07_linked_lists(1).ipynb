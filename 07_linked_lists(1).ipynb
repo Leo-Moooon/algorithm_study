{
 "cells": [
  {
   "cell_type": "markdown",
   "source": [
    "# 연결 리스트 (1)"
   ],
   "metadata": {
    "collapsed": false
   },
   "id": "3aeb7364c0915c83"
  },
  {
   "cell_type": "markdown",
   "source": [
    "## 추상적 자료구조 (Abstract Data Structures)\n",
    "1. Data\n",
    "- 예) 정수, 문자열, 레코드 etc\n",
    "\n",
    "2. A sef of operations\n",
    "- 삽입, 삭제 순회 etc\n",
    "- 정렬 탐색 etc"
   ],
   "metadata": {
    "collapsed": false
   },
   "id": "cbe3cde172c72ae6"
  },
  {
   "cell_type": "markdown",
   "source": [
    "## 기본적인 연결 리스트\n",
    "\n",
    "- 여러 개의 노드로 연결되어 있음.\n",
    "\n",
    "1. 노드 (Node)\n",
    "- Data: 값(데이터)\n",
    "- Link (next): 다음 노드를 가리키는 값\n",
    "\n",
    "2. Head, Tail\n",
    "- Head: 첫 노드\n",
    "- Tail: 마지막 노드\n",
    "- of nodes: 노드 개수\n",
    "\n",
    "<table>\n",
    "    <tr>\n",
    "       <td></td>\n",
    "       <td>배열</td>\n",
    "       <td>연결 리스트</td>\n",
    "    </tr>\n",
    "    <tr>\n",
    "        <td>저장공간</td>\n",
    "        <td>연속한 위치</td>\n",
    "        <td>임의의 위치</td>\n",
    "    </tr>\n",
    "    <tr>\n",
    "        <td>특정 원소 지칭</td>\n",
    "        <td>매우 간편</td>\n",
    "        <td>선형 탐색과 유사</td>\n",
    "    </tr>\n",
    "    <tr>\n",
    "        <td>시간 복잡도</td>\n",
    "        <td>$O(1)$</td>\n",
    "        <td>$O(n)$</td>\n",
    "    </tr>\n",
    "</table>\n",
    "\n",
    "## 연산 정의\n",
    "\n",
    "1. 특정 원소 참조(k 번째)\n",
    "2. 리스트 순회\n",
    "3. 길이 얻기\n",
    "4. 원소 삽입\n",
    "5. 원소 삭제\n",
    "6. 두 리스트 합치기\n",
    "\n",
    "### 1. k 번째 원소 참조\n",
    "\n",
    "- head의 인덱스는 1\n",
    "- 0은 다른 목적으로 사용함\n",
    "\n"
   ],
   "metadata": {
    "collapsed": false
   },
   "id": "4afa71732c8bc235"
  },
  {
   "cell_type": "code",
   "execution_count": 13,
   "id": "initial_id",
   "metadata": {
    "collapsed": true,
    "ExecuteTime": {
     "end_time": "2023-12-15T15:27:42.810945Z",
     "start_time": "2023-12-15T15:27:42.806896Z"
    }
   },
   "outputs": [],
   "source": [
    "class Node:\n",
    "    def __init__(self, item):\n",
    "        self.data = item\n",
    "        self.next = None\n",
    "\n",
    "\n",
    "class LinkedList:\n",
    "    def __init__(self):\n",
    "        self.nodeCount = 0\n",
    "        self.head = None\n",
    "        self.tail = None\n",
    "        \n",
    "    \n",
    "    def getAt(self, pos):\n",
    "        if (pos <= 0) or (pos > self.nodeCount):\n",
    "            return None\n",
    "        \n",
    "        i = 1\n",
    "        curr = self.head\n",
    "        \n",
    "        while i < pos:\n",
    "            curr = curr.next\n",
    "            i += 1\n",
    "        \n",
    "        return curr\n",
    "    \n",
    "    \n",
    "    def traverse(self):\n",
    "        i = 1\n",
    "        curr = self.head\n",
    "        \n",
    "        footprint = []\n",
    "        while curr:\n",
    "            footprint.append(curr.data)\n",
    "            curr = curr.next\n",
    "            i += 1\n",
    "        \n",
    "        return footprint"
   ]
  },
  {
   "cell_type": "code",
   "execution_count": 14,
   "outputs": [
    {
     "data": {
      "text/plain": "[67, 34, 58]"
     },
     "execution_count": 14,
     "metadata": {},
     "output_type": "execute_result"
    }
   ],
   "source": [
    "L = LinkedList()\n",
    "\n",
    "n1 = Node(67)\n",
    "n2 = Node(34)\n",
    "n3 = Node(58)\n",
    "\n",
    "L.head = n1\n",
    "L.tail = n3\n",
    "\n",
    "n1.next = n2\n",
    "n2.next = n3\n",
    "\n",
    "L.traverse()"
   ],
   "metadata": {
    "collapsed": false,
    "ExecuteTime": {
     "end_time": "2023-12-15T15:27:43.268461Z",
     "start_time": "2023-12-15T15:27:43.263843Z"
    }
   },
   "id": "e503c4af1eb4f1fc"
  },
  {
   "cell_type": "code",
   "execution_count": null,
   "outputs": [],
   "source": [],
   "metadata": {
    "collapsed": false
   },
   "id": "d7c667e33a670381"
  }
 ],
 "metadata": {
  "kernelspec": {
   "display_name": "Python 3",
   "language": "python",
   "name": "python3"
  },
  "language_info": {
   "codemirror_mode": {
    "name": "ipython",
    "version": 2
   },
   "file_extension": ".py",
   "mimetype": "text/x-python",
   "name": "python",
   "nbconvert_exporter": "python",
   "pygments_lexer": "ipython2",
   "version": "2.7.6"
  }
 },
 "nbformat": 4,
 "nbformat_minor": 5
}
